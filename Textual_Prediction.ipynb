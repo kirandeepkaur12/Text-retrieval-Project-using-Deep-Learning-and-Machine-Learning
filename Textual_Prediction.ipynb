{
  "nbformat": 4,
  "nbformat_minor": 0,
  "metadata": {
    "accelerator": "GPU",
    "colab": {
      "name": "Textual_Prediction.ipynb",
      "provenance": [],
      "collapsed_sections": []
    },
    "kernelspec": {
      "display_name": "Python 3",
      "name": "python3"
    },
    "language_info": {
      "name": "python"
    }
  },
  "cells": [
    {
      "cell_type": "code",
      "metadata": {
        "colab": {
          "base_uri": "https://localhost:8080/"
        },
        "id": "VCOSty49IPR1",
        "outputId": "6e114130-6a76-405c-a5fc-96038d3c55c5"
      },
      "source": [
        "import nltk\n",
        "nltk.download('punkt')"
      ],
      "execution_count": null,
      "outputs": [
        {
          "output_type": "stream",
          "name": "stdout",
          "text": [
            "[nltk_data] Downloading package punkt to /root/nltk_data...\n",
            "[nltk_data]   Unzipping tokenizers/punkt.zip.\n"
          ]
        },
        {
          "output_type": "execute_result",
          "data": {
            "text/plain": [
              "True"
            ]
          },
          "metadata": {},
          "execution_count": 22
        }
      ]
    },
    {
      "cell_type": "code",
      "metadata": {
        "colab": {
          "base_uri": "https://localhost:8080/"
        },
        "id": "C9rsiCjNd3_R",
        "outputId": "583e6f0d-16d4-4639-bc66-21bdd0ec7efe"
      },
      "source": [
        "!pip install chart_studio\n"
      ],
      "execution_count": null,
      "outputs": [
        {
          "output_type": "stream",
          "name": "stdout",
          "text": [
            "Collecting chart_studio\n",
            "  Downloading chart_studio-1.1.0-py3-none-any.whl (64 kB)\n",
            "\u001b[?25l\r\u001b[K     |█████                           | 10 kB 15.5 MB/s eta 0:00:01\r\u001b[K     |██████████▏                     | 20 kB 15.9 MB/s eta 0:00:01\r\u001b[K     |███████████████▎                | 30 kB 13.5 MB/s eta 0:00:01\r\u001b[K     |████████████████████▍           | 40 kB 10.1 MB/s eta 0:00:01\r\u001b[K     |█████████████████████████▍      | 51 kB 5.6 MB/s eta 0:00:01\r\u001b[K     |██████████████████████████████▌ | 61 kB 6.2 MB/s eta 0:00:01\r\u001b[K     |████████████████████████████████| 64 kB 1.9 MB/s \n",
            "\u001b[?25hRequirement already satisfied: six in /usr/local/lib/python3.7/dist-packages (from chart_studio) (1.15.0)\n",
            "Requirement already satisfied: requests in /usr/local/lib/python3.7/dist-packages (from chart_studio) (2.23.0)\n",
            "Requirement already satisfied: plotly in /usr/local/lib/python3.7/dist-packages (from chart_studio) (4.4.1)\n",
            "Requirement already satisfied: retrying>=1.3.3 in /usr/local/lib/python3.7/dist-packages (from chart_studio) (1.3.3)\n",
            "Requirement already satisfied: chardet<4,>=3.0.2 in /usr/local/lib/python3.7/dist-packages (from requests->chart_studio) (3.0.4)\n",
            "Requirement already satisfied: urllib3!=1.25.0,!=1.25.1,<1.26,>=1.21.1 in /usr/local/lib/python3.7/dist-packages (from requests->chart_studio) (1.24.3)\n",
            "Requirement already satisfied: certifi>=2017.4.17 in /usr/local/lib/python3.7/dist-packages (from requests->chart_studio) (2021.10.8)\n",
            "Requirement already satisfied: idna<3,>=2.5 in /usr/local/lib/python3.7/dist-packages (from requests->chart_studio) (2.10)\n",
            "Installing collected packages: chart-studio\n",
            "Successfully installed chart-studio-1.1.0\n"
          ]
        }
      ]
    },
    {
      "cell_type": "code",
      "metadata": {
        "id": "Up7Cp46yd88x"
      },
      "source": [
        "import chart_studio.plotly as py\n",
        "import plotly.graph_objs as go"
      ],
      "execution_count": null,
      "outputs": []
    },
    {
      "cell_type": "code",
      "metadata": {
        "colab": {
          "base_uri": "https://localhost:8080/",
          "height": 17
        },
        "id": "XcSrSlqxEpkl",
        "outputId": "9961ba32-b3ab-4c5d-ddb0-fba7b568aab7"
      },
      "source": [
        "import numpy as np \n",
        "import pandas as pd\n",
        "import matplotlib.pyplot as plt\n",
        "import seaborn as sns\n",
        "from keras.preprocessing.text import Tokenizer\n",
        "from keras.preprocessing.sequence import pad_sequences\n",
        "from keras.models import Sequential\n",
        "from keras.layers import Dense, Embedding, LSTM, SpatialDropout1D\n",
        "from sklearn.model_selection import train_test_split\n",
        "from keras.utils.np_utils import to_categorical\n",
        "from keras.callbacks import EarlyStopping\n",
        "from keras.layers import Dropout\n",
        "import re\n",
        "from nltk.corpus import stopwords\n",
        "from nltk import word_tokenize\n",
        "# STOPWORDS = set(stopwords.words('english'))\n",
        "from bs4 import BeautifulSoup\n",
        "import plotly.graph_objs as go\n",
        "import cufflinks\n",
        "from IPython.core.interactiveshell import InteractiveShell\n",
        "import plotly.figure_factory as ff\n",
        "InteractiveShell.ast_node_interactivity = 'all'\n",
        "from plotly.offline import iplot\n",
        "cufflinks.go_offline()\n",
        "cufflinks.set_config_file(world_readable=True, theme='pearl')"
      ],
      "execution_count": null,
      "outputs": [
        {
          "output_type": "display_data",
          "data": {
            "text/html": [
              "        <script type=\"text/javascript\">\n",
              "        window.PlotlyConfig = {MathJaxConfig: 'local'};\n",
              "        if (window.MathJax) {MathJax.Hub.Config({SVG: {font: \"STIX-Web\"}});}\n",
              "        if (typeof require !== 'undefined') {\n",
              "        require.undef(\"plotly\");\n",
              "        requirejs.config({\n",
              "            paths: {\n",
              "                'plotly': ['https://cdn.plot.ly/plotly-latest.min']\n",
              "            }\n",
              "        });\n",
              "        require(['plotly'], function(Plotly) {\n",
              "            window._Plotly = Plotly;\n",
              "        });\n",
              "        }\n",
              "        </script>\n",
              "        "
            ]
          },
          "metadata": {}
        }
      ]
    },
    {
      "cell_type": "code",
      "metadata": {
        "colab": {
          "base_uri": "https://localhost:8080/"
        },
        "id": "TK2iJ82vEq8n",
        "outputId": "31375f39-b31e-41c9-f06c-2f7e5c294365"
      },
      "source": [
        "import nltk\n",
        "nltk.download('stopwords')\n",
        "from nltk.corpus import stopwords\n",
        "STOPWORDS = set(stopwords.words('english'))"
      ],
      "execution_count": null,
      "outputs": [
        {
          "output_type": "stream",
          "name": "stdout",
          "text": [
            "[nltk_data] Downloading package stopwords to /root/nltk_data...\n",
            "[nltk_data]   Package stopwords is already up-to-date!\n"
          ]
        },
        {
          "output_type": "execute_result",
          "data": {
            "text/plain": [
              "True"
            ]
          },
          "metadata": {},
          "execution_count": 37
        }
      ]
    },
    {
      "cell_type": "code",
      "metadata": {
        "id": "lJrJC69qbdXb"
      },
      "source": [
        "d=pd.read_csv(\"/content/drive/MyDrive/consumer_complaints_small.csv\",low_memory=False)"
      ],
      "execution_count": null,
      "outputs": []
    },
    {
      "cell_type": "code",
      "metadata": {
        "colab": {
          "base_uri": "https://localhost:8080/"
        },
        "id": "ki8CnwWxcjmV",
        "outputId": "08a2edad-76a2-48c0-daf7-d572b7696c1b"
      },
      "source": [
        "d.shape"
      ],
      "execution_count": null,
      "outputs": [
        {
          "output_type": "execute_result",
          "data": {
            "text/plain": [
              "(824997, 3)"
            ]
          },
          "metadata": {},
          "execution_count": 39
        }
      ]
    },
    {
      "cell_type": "code",
      "metadata": {
        "colab": {
          "base_uri": "https://localhost:8080/",
          "height": 423
        },
        "id": "7qzoUnu4eUTh",
        "outputId": "79eb3151-f3da-4884-fb47-239ca47d4356"
      },
      "source": [
        "d"
      ],
      "execution_count": null,
      "outputs": [
        {
          "output_type": "execute_result",
          "data": {
            "text/html": [
              "<div>\n",
              "<style scoped>\n",
              "    .dataframe tbody tr th:only-of-type {\n",
              "        vertical-align: middle;\n",
              "    }\n",
              "\n",
              "    .dataframe tbody tr th {\n",
              "        vertical-align: top;\n",
              "    }\n",
              "\n",
              "    .dataframe thead th {\n",
              "        text-align: right;\n",
              "    }\n",
              "</style>\n",
              "<table border=\"1\" class=\"dataframe\">\n",
              "  <thead>\n",
              "    <tr style=\"text-align: right;\">\n",
              "      <th></th>\n",
              "      <th>Unnamed: 0</th>\n",
              "      <th>Product</th>\n",
              "      <th>Consumer complaint narrative</th>\n",
              "    </tr>\n",
              "  </thead>\n",
              "  <tbody>\n",
              "    <tr>\n",
              "      <th>0</th>\n",
              "      <td>1</td>\n",
              "      <td>Vehicle loan or lease</td>\n",
              "      <td>I contacted Ally on Friday XX/XX/XXXX after fa...</td>\n",
              "    </tr>\n",
              "    <tr>\n",
              "      <th>1</th>\n",
              "      <td>3</td>\n",
              "      <td>Credit reporting, credit repair services, or o...</td>\n",
              "      <td>I was told my bankruptcy would be off my credi...</td>\n",
              "    </tr>\n",
              "    <tr>\n",
              "      <th>2</th>\n",
              "      <td>8</td>\n",
              "      <td>Credit reporting, credit repair services, or o...</td>\n",
              "      <td>Hello This complaint is against the three cred...</td>\n",
              "    </tr>\n",
              "    <tr>\n",
              "      <th>3</th>\n",
              "      <td>9</td>\n",
              "      <td>Credit reporting, credit repair services, or o...</td>\n",
              "      <td>I am a victim of Identity Theft &amp; currently ha...</td>\n",
              "    </tr>\n",
              "    <tr>\n",
              "      <th>4</th>\n",
              "      <td>10</td>\n",
              "      <td>Credit reporting, credit repair services, or o...</td>\n",
              "      <td>Dear CFPB, The purpose of this letter is to in...</td>\n",
              "    </tr>\n",
              "    <tr>\n",
              "      <th>...</th>\n",
              "      <td>...</td>\n",
              "      <td>...</td>\n",
              "      <td>...</td>\n",
              "    </tr>\n",
              "    <tr>\n",
              "      <th>824992</th>\n",
              "      <td>2361623</td>\n",
              "      <td>Credit card</td>\n",
              "      <td>Automated calls from \" XXXX with Capital One '...</td>\n",
              "    </tr>\n",
              "    <tr>\n",
              "      <th>824993</th>\n",
              "      <td>2361624</td>\n",
              "      <td>Debt collection</td>\n",
              "      <td>I have disputed my debts several times with no...</td>\n",
              "    </tr>\n",
              "    <tr>\n",
              "      <th>824994</th>\n",
              "      <td>2361625</td>\n",
              "      <td>Mortgage</td>\n",
              "      <td>My father died in XX/XX/XXXX. Left me his only...</td>\n",
              "    </tr>\n",
              "    <tr>\n",
              "      <th>824995</th>\n",
              "      <td>2361626</td>\n",
              "      <td>Credit reporting</td>\n",
              "      <td>cfbp i would Like to file a complaint on Exper...</td>\n",
              "    </tr>\n",
              "    <tr>\n",
              "      <th>824996</th>\n",
              "      <td>2361627</td>\n",
              "      <td>Credit reporting</td>\n",
              "      <td>My husband and I are in the middle of an FHA S...</td>\n",
              "    </tr>\n",
              "  </tbody>\n",
              "</table>\n",
              "<p>824997 rows × 3 columns</p>\n",
              "</div>"
            ],
            "text/plain": [
              "        Unnamed: 0  ...                       Consumer complaint narrative\n",
              "0                1  ...  I contacted Ally on Friday XX/XX/XXXX after fa...\n",
              "1                3  ...  I was told my bankruptcy would be off my credi...\n",
              "2                8  ...  Hello This complaint is against the three cred...\n",
              "3                9  ...  I am a victim of Identity Theft & currently ha...\n",
              "4               10  ...  Dear CFPB, The purpose of this letter is to in...\n",
              "...            ...  ...                                                ...\n",
              "824992     2361623  ...  Automated calls from \" XXXX with Capital One '...\n",
              "824993     2361624  ...  I have disputed my debts several times with no...\n",
              "824994     2361625  ...  My father died in XX/XX/XXXX. Left me his only...\n",
              "824995     2361626  ...  cfbp i would Like to file a complaint on Exper...\n",
              "824996     2361627  ...  My husband and I are in the middle of an FHA S...\n",
              "\n",
              "[824997 rows x 3 columns]"
            ]
          },
          "metadata": {},
          "execution_count": 40
        }
      ]
    },
    {
      "cell_type": "code",
      "metadata": {
        "id": "fNxD0vAUCadI"
      },
      "source": [
        "d = d.drop([\"Unnamed: 0\"],axis=1)"
      ],
      "execution_count": null,
      "outputs": []
    },
    {
      "cell_type": "code",
      "metadata": {
        "id": "1VNEKS87BzGk"
      },
      "source": [
        "df = d[:300000]"
      ],
      "execution_count": null,
      "outputs": []
    },
    {
      "cell_type": "code",
      "metadata": {
        "colab": {
          "base_uri": "https://localhost:8080/"
        },
        "id": "YcVbXEGvCit3",
        "outputId": "4cf64609-a4ad-484e-e978-4eae6006ab9d"
      },
      "source": [
        "df.shape"
      ],
      "execution_count": null,
      "outputs": [
        {
          "output_type": "execute_result",
          "data": {
            "text/plain": [
              "(300000, 2)"
            ]
          },
          "metadata": {},
          "execution_count": 45
        }
      ]
    },
    {
      "cell_type": "code",
      "metadata": {
        "colab": {
          "base_uri": "https://localhost:8080/",
          "height": 423
        },
        "id": "GRWEwY2jWEP1",
        "outputId": "69c096d5-70d4-477d-897e-f09a549e2c55"
      },
      "source": [
        "df"
      ],
      "execution_count": null,
      "outputs": [
        {
          "output_type": "execute_result",
          "data": {
            "text/html": [
              "<div>\n",
              "<style scoped>\n",
              "    .dataframe tbody tr th:only-of-type {\n",
              "        vertical-align: middle;\n",
              "    }\n",
              "\n",
              "    .dataframe tbody tr th {\n",
              "        vertical-align: top;\n",
              "    }\n",
              "\n",
              "    .dataframe thead th {\n",
              "        text-align: right;\n",
              "    }\n",
              "</style>\n",
              "<table border=\"1\" class=\"dataframe\">\n",
              "  <thead>\n",
              "    <tr style=\"text-align: right;\">\n",
              "      <th></th>\n",
              "      <th>Product</th>\n",
              "      <th>Consumer complaint narrative</th>\n",
              "    </tr>\n",
              "  </thead>\n",
              "  <tbody>\n",
              "    <tr>\n",
              "      <th>0</th>\n",
              "      <td>Vehicle loan or lease</td>\n",
              "      <td>I contacted Ally on Friday XX/XX/XXXX after fa...</td>\n",
              "    </tr>\n",
              "    <tr>\n",
              "      <th>1</th>\n",
              "      <td>Credit reporting, credit repair services, or o...</td>\n",
              "      <td>I was told my bankruptcy would be off my credi...</td>\n",
              "    </tr>\n",
              "    <tr>\n",
              "      <th>2</th>\n",
              "      <td>Credit reporting, credit repair services, or o...</td>\n",
              "      <td>Hello This complaint is against the three cred...</td>\n",
              "    </tr>\n",
              "    <tr>\n",
              "      <th>3</th>\n",
              "      <td>Credit reporting, credit repair services, or o...</td>\n",
              "      <td>I am a victim of Identity Theft &amp; currently ha...</td>\n",
              "    </tr>\n",
              "    <tr>\n",
              "      <th>4</th>\n",
              "      <td>Credit reporting, credit repair services, or o...</td>\n",
              "      <td>Dear CFPB, The purpose of this letter is to in...</td>\n",
              "    </tr>\n",
              "    <tr>\n",
              "      <th>...</th>\n",
              "      <td>...</td>\n",
              "      <td>...</td>\n",
              "    </tr>\n",
              "    <tr>\n",
              "      <th>299995</th>\n",
              "      <td>Credit reporting, credit repair services, or o...</td>\n",
              "      <td>I am contacting you about the compromising of ...</td>\n",
              "    </tr>\n",
              "    <tr>\n",
              "      <th>299996</th>\n",
              "      <td>Mortgage</td>\n",
              "      <td>In XX/XX/2020 I reached out to Wells Fargo reg...</td>\n",
              "    </tr>\n",
              "    <tr>\n",
              "      <th>299997</th>\n",
              "      <td>Credit reporting, credit repair services, or o...</td>\n",
              "      <td>MY INFORMATION WAS USED FRAUDULENTLY TO OPEN A...</td>\n",
              "    </tr>\n",
              "    <tr>\n",
              "      <th>299998</th>\n",
              "      <td>Student loan</td>\n",
              "      <td>I was a customer of  XXXX   XXXX  in the year ...</td>\n",
              "    </tr>\n",
              "    <tr>\n",
              "      <th>299999</th>\n",
              "      <td>Credit reporting, credit repair services, or o...</td>\n",
              "      <td>On XX/XX/2020, I contacted the Three Major Bur...</td>\n",
              "    </tr>\n",
              "  </tbody>\n",
              "</table>\n",
              "<p>300000 rows × 2 columns</p>\n",
              "</div>"
            ],
            "text/plain": [
              "                                                  Product                       Consumer complaint narrative\n",
              "0                                   Vehicle loan or lease  I contacted Ally on Friday XX/XX/XXXX after fa...\n",
              "1       Credit reporting, credit repair services, or o...  I was told my bankruptcy would be off my credi...\n",
              "2       Credit reporting, credit repair services, or o...  Hello This complaint is against the three cred...\n",
              "3       Credit reporting, credit repair services, or o...  I am a victim of Identity Theft & currently ha...\n",
              "4       Credit reporting, credit repair services, or o...  Dear CFPB, The purpose of this letter is to in...\n",
              "...                                                   ...                                                ...\n",
              "299995  Credit reporting, credit repair services, or o...  I am contacting you about the compromising of ...\n",
              "299996                                           Mortgage  In XX/XX/2020 I reached out to Wells Fargo reg...\n",
              "299997  Credit reporting, credit repair services, or o...  MY INFORMATION WAS USED FRAUDULENTLY TO OPEN A...\n",
              "299998                                       Student loan  I was a customer of  XXXX   XXXX  in the year ...\n",
              "299999  Credit reporting, credit repair services, or o...  On XX/XX/2020, I contacted the Three Major Bur...\n",
              "\n",
              "[300000 rows x 2 columns]"
            ]
          },
          "metadata": {},
          "execution_count": 47
        }
      ]
    },
    {
      "cell_type": "code",
      "metadata": {
        "colab": {
          "base_uri": "https://localhost:8080/"
        },
        "id": "ipiNeVdzdH2i",
        "outputId": "d8cd1ebf-ae85-4375-b438-9da632ee3d43"
      },
      "source": [
        "df.Product.value_counts()\n"
      ],
      "execution_count": null,
      "outputs": [
        {
          "output_type": "execute_result",
          "data": {
            "text/plain": [
              "Credit reporting, credit repair services, or other personal consumer reports    153441\n",
              "Debt collection                                                                  50470\n",
              "Credit card or prepaid card                                                      28522\n",
              "Mortgage                                                                         23258\n",
              "Checking or savings account                                                      17299\n",
              "Money transfer, virtual currency, or money service                                8277\n",
              "Vehicle loan or lease                                                             6650\n",
              "Student loan                                                                      5996\n",
              "Payday loan, title loan, or personal loan                                         4350\n",
              "Credit card                                                                        483\n",
              "Credit reporting                                                                   461\n",
              "Bank account or service                                                            322\n",
              "Consumer Loan                                                                      265\n",
              "Payday loan                                                                         91\n",
              "Money transfers                                                                     67\n",
              "Prepaid card                                                                        31\n",
              "Other financial service                                                             17\n",
              "Name: Product, dtype: int64"
            ]
          },
          "metadata": {},
          "execution_count": 48
        }
      ]
    },
    {
      "cell_type": "code",
      "metadata": {
        "id": "Hgi3U4hAdSkq"
      },
      "source": [
        "df.loc[df['Product'] == 'Credit reporting', 'Product'] = 'Credit reporting, credit repair services, or other personal consumer reports'\n",
        "df.loc[df['Product'] == 'Credit card', 'Product'] = 'Credit card or prepaid card'\n",
        "df.loc[df['Product'] == 'Payday loan', 'Product'] = 'Payday loan, title loan, or personal loan'\n",
        "df.loc[df['Product'] == 'Virtual currency', 'Product'] = 'Money transfer, virtual currency, or money service'\n",
        "df = df[df.Product != 'Other financial service']"
      ],
      "execution_count": null,
      "outputs": []
    },
    {
      "cell_type": "code",
      "metadata": {
        "colab": {
          "base_uri": "https://localhost:8080/"
        },
        "id": "p4zhkXdLdYSU",
        "outputId": "1cbee49c-13ac-4b2a-b53b-0ee213c8b6fd"
      },
      "source": [
        "def print_plot(index):\n",
        "    example = df[df.index == index][['Consumer complaint narrative', 'Product']].values[0]\n",
        "    if len(example) > 0:\n",
        "        print(example[0])\n",
        "        print('Product:', example[1])\n",
        "print_plot(10)"
      ],
      "execution_count": null,
      "outputs": [
        {
          "output_type": "stream",
          "name": "stdout",
          "text": [
            "Speedy Cash listed the negative item on my credit report under another name ( XXXX XXXX ) ... I have contact them and advised that the previous fees paid on the account should be credited and not have the pay the full amount pay. Need the negative item removed immediately. They have also done illegal active on the account to stay on the credit report ... .stating that I paid {$1.00} on the account so it can be active. Also making changes on the account, by changing the amount due on the account several months in a row.\n",
            "Product: Credit reporting, credit repair services, or other personal consumer reports\n"
          ]
        }
      ]
    },
    {
      "cell_type": "code",
      "metadata": {
        "colab": {
          "base_uri": "https://localhost:8080/"
        },
        "id": "EJiygiwUegTm",
        "outputId": "b400c67c-8e76-4ed1-e141-d8bd1b0b0186"
      },
      "source": [
        "print_plot(100)\n"
      ],
      "execution_count": null,
      "outputs": [
        {
          "output_type": "stream",
          "name": "stdout",
          "text": [
            "XXXX XXXX is refusing to delete this debt. I have paid this medical bill 5 months ago. All my information on my credit report needs to be updated ASAP! And all old accounts that's over 2 years old.\n",
            "Product: Debt collection\n"
          ]
        }
      ]
    },
    {
      "cell_type": "code",
      "metadata": {
        "id": "XpliEsCPejLC"
      },
      "source": [
        "\n",
        "df = df.reset_index(drop=True)\n",
        "REPLACE_BY_SPACE_RE = re.compile('[/(){}\\[\\]\\|@,;]')\n",
        "BAD_SYMBOLS_RE = re.compile('[^0-9a-z #+_]')\n",
        "STOPWORDS = set(stopwords.words('english'))\n",
        "\n",
        "def clean_text(text):\n",
        "    \"\"\"\n",
        "        text: a string\n",
        "        \n",
        "        return: modified initial string\n",
        "    \"\"\"\n",
        "    text = text.lower() # lowercase text\n",
        "    text = REPLACE_BY_SPACE_RE.sub(' ', text) # replace REPLACE_BY_SPACE_RE symbols by space in text. substitute the matched string in REPLACE_BY_SPACE_RE with space.\n",
        "    text = BAD_SYMBOLS_RE.sub('', text) # remove symbols which are in BAD_SYMBOLS_RE from text. substitute the matched string in BAD_SYMBOLS_RE with nothing. \n",
        "    text = text.replace('x', '')\n",
        "#    text = re.sub(r'\\W+', '', text)\n",
        "    text = ' '.join(word for word in text.split() if word not in STOPWORDS) # remove stopwors from text\n",
        "    return text\n",
        "df['Consumer complaint narrative'] = df['Consumer complaint narrative'].apply(clean_text)\n",
        "df['Consumer complaint narrative'] = df['Consumer complaint narrative'].str.replace('\\d+', '')"
      ],
      "execution_count": null,
      "outputs": []
    },
    {
      "cell_type": "code",
      "metadata": {
        "colab": {
          "base_uri": "https://localhost:8080/"
        },
        "id": "00pUc56PenxP",
        "outputId": "e78bd270-64aa-4601-9755-278d8c7275f5"
      },
      "source": [
        "print_plot(10)"
      ],
      "execution_count": null,
      "outputs": [
        {
          "output_type": "stream",
          "name": "stdout",
          "text": [
            "speedy cash listed negative item credit report another name contact advised previous fees paid account credited pay full amount pay need negative item removed immediately also done illegal active account stay credit report stating paid  account active also making changes account changing amount due account several months row\n",
            "Product: Credit reporting, credit repair services, or other personal consumer reports\n"
          ]
        }
      ]
    },
    {
      "cell_type": "code",
      "metadata": {
        "colab": {
          "base_uri": "https://localhost:8080/"
        },
        "id": "MNlTV0clfENb",
        "outputId": "f346ed45-b8c4-4cbf-d342-80a0de54b1e1"
      },
      "source": [
        "print_plot(100)\n"
      ],
      "execution_count": null,
      "outputs": [
        {
          "output_type": "stream",
          "name": "stdout",
          "text": [
            "refusing delete debt paid medical bill  months ago information credit report needs updated asap old accounts thats  years old\n",
            "Product: Debt collection\n"
          ]
        }
      ]
    },
    {
      "cell_type": "code",
      "metadata": {
        "colab": {
          "base_uri": "https://localhost:8080/"
        },
        "id": "w552Xls1fGNM",
        "outputId": "5b7a771e-d116-4b04-9aa2-d18de012295b"
      },
      "source": [
        "\n",
        "# The maximum number of words to be used. (most frequent)\n",
        "MAX_NB_WORDS = 50000\n",
        "# Max number of words in each complaint.\n",
        "MAX_SEQUENCE_LENGTH = 500\n",
        "# This is fixed.\n",
        "EMBEDDING_DIM = 100\n",
        "tokenizer = Tokenizer(num_words=MAX_NB_WORDS, filters='!\"#$%&()*+,-./:;<=>?@[\\]^_`{|}~', lower=True)\n",
        "tokenizer.fit_on_texts(df['Consumer complaint narrative'].values)\n",
        "word_index = tokenizer.word_index\n",
        "print('Found %s unique tokens.' % len(word_index))"
      ],
      "execution_count": null,
      "outputs": [
        {
          "output_type": "stream",
          "name": "stdout",
          "text": [
            "Found 104046 unique tokens.\n"
          ]
        }
      ]
    },
    {
      "cell_type": "code",
      "metadata": {
        "colab": {
          "base_uri": "https://localhost:8080/"
        },
        "id": "F9L9P9wUfJF7",
        "outputId": "0f7df54e-527f-4741-8236-56a2399de247"
      },
      "source": [
        "X = tokenizer.texts_to_sequences(df['Consumer complaint narrative'].values)\n",
        "X = pad_sequences(X, maxlen=MAX_SEQUENCE_LENGTH)\n",
        "print('Shape of data tensor:', X.shape)\n"
      ],
      "execution_count": null,
      "outputs": [
        {
          "output_type": "stream",
          "name": "stdout",
          "text": [
            "Shape of data tensor: (299983, 500)\n"
          ]
        }
      ]
    },
    {
      "cell_type": "code",
      "metadata": {
        "colab": {
          "base_uri": "https://localhost:8080/"
        },
        "id": "HKTgpdYQfgRB",
        "outputId": "d83cc9de-f1d9-4100-c0aa-3d74f9132f0a"
      },
      "source": [
        "Y = pd.get_dummies(df['Product']).values\n",
        "print('Shape of label tensor:', Y.shape)"
      ],
      "execution_count": null,
      "outputs": [
        {
          "output_type": "stream",
          "name": "stdout",
          "text": [
            "Shape of label tensor: (299983, 13)\n"
          ]
        }
      ]
    },
    {
      "cell_type": "code",
      "metadata": {
        "colab": {
          "base_uri": "https://localhost:8080/"
        },
        "id": "OoLGAfh9fi-5",
        "outputId": "f286fac2-4be7-434b-a653-a55f7d4d29fc"
      },
      "source": [
        "X_train, X_test, Y_train, Y_test = train_test_split(X,Y, test_size = 0.10, random_state = 42)\n",
        "print(X_train.shape,Y_train.shape)\n",
        "print(X_test.shape,Y_test.shape)"
      ],
      "execution_count": null,
      "outputs": [
        {
          "output_type": "stream",
          "name": "stdout",
          "text": [
            "(269984, 500) (269984, 13)\n",
            "(29999, 500) (29999, 13)\n"
          ]
        }
      ]
    },
    {
      "cell_type": "markdown",
      "metadata": {
        "id": "ke_KAERUwHpF"
      },
      "source": [
        "## LSTM MODEL\n"
      ]
    },
    {
      "cell_type": "code",
      "metadata": {
        "colab": {
          "base_uri": "https://localhost:8080/"
        },
        "id": "PYdBUC0afi3A",
        "outputId": "bd085a22-8e09-4006-e7e6-bafcaa0785a4"
      },
      "source": [
        "%%time\n",
        "model = Sequential()\n",
        "model.add(Embedding(MAX_NB_WORDS, EMBEDDING_DIM, input_length=X.shape[1]))\n",
        "model.add(SpatialDropout1D(0.2))\n",
        "model.add(LSTM(100, dropout=0.2, recurrent_dropout=0.2))\n",
        "model.add(Dense(13, activation='softmax'))\n",
        "model.compile(loss='categorical_crossentropy', optimizer='adam', metrics=['accuracy'])\n",
        "\n",
        "epochs = 2\n",
        "batch_size = 64\n",
        "\n",
        "history = model.fit(X_train, Y_train, epochs=epochs, batch_size=batch_size,validation_split=0.1,callbacks=[EarlyStopping(monitor='val_loss', patience=3, min_delta=0.0001)])"
      ],
      "execution_count": null,
      "outputs": [
        {
          "output_type": "stream",
          "name": "stdout",
          "text": [
            "Epoch 1/2\n",
            "1013/1013 [==============================] - 1372s 1s/step - loss: 1.0101 - accuracy: 0.6680 - val_loss: 0.7076 - val_accuracy: 0.7761\n",
            "Epoch 2/2\n",
            "1013/1013 [==============================] - 1376s 1s/step - loss: 0.6904 - accuracy: 0.7786 - val_loss: 0.6187 - val_accuracy: 0.8078\n",
            "CPU times: user 1h 23min 43s, sys: 4min 29s, total: 1h 28min 13s\n",
            "Wall time: 46min 25s\n"
          ]
        }
      ]
    },
    {
      "cell_type": "code",
      "metadata": {
        "colab": {
          "base_uri": "https://localhost:8080/"
        },
        "id": "fzSsFsUYf1o5",
        "outputId": "58dc77a6-a1d1-4719-a624-0c6e3d2df73f"
      },
      "source": [
        "accr = model.evaluate(X_test,Y_test)\n",
        "print('Test set\\n  Loss: {:0.3f}\\n  Accuracy: {:0.3f}'.format(accr[0],accr[1]))"
      ],
      "execution_count": null,
      "outputs": [
        {
          "output_type": "stream",
          "name": "stdout",
          "text": [
            "250/250 [==============================] - 30s 120ms/step - loss: 0.6275 - accuracy: 0.7958\n",
            "Test set\n",
            "  Loss: 0.627\n",
            "  Accuracy: 0.796\n"
          ]
        }
      ]
    },
    {
      "cell_type": "code",
      "metadata": {
        "colab": {
          "base_uri": "https://localhost:8080/",
          "height": 281
        },
        "id": "yaq9yDrsUFtu",
        "outputId": "c703c469-ea8f-441e-a5f1-ebb9883eb1a4"
      },
      "source": [
        "plt.title('Loss')\n",
        "plt.plot(history.history['loss'], label='train')\n",
        "plt.plot(history.history['val_loss'], label='test')\n",
        "plt.legend()\n",
        "plt.show();"
      ],
      "execution_count": null,
      "outputs": [
        {
          "output_type": "display_data",
          "data": {
            "image/png": "[encoded data removed]",
            "text/plain": [
              "<Figure size 432x288 with 1 Axes>"
            ]
          },
          "metadata": {
            "needs_background": "light"
          }
        }
      ]
    },
    {
      "cell_type": "code",
      "metadata": {
        "colab": {
          "base_uri": "https://localhost:8080/",
          "height": 281
        },
        "id": "yR0WnhBDUKJn",
        "outputId": "477f3c2b-d379-4190-9157-bc4e5bbef341"
      },
      "source": [
        "plt.title('Accuracy')\n",
        "plt.plot(history.history['accuracy'], label='train')\n",
        "plt.plot(history.history['val_accuracy'], label='test')\n",
        "plt.legend()\n",
        "plt.show();"
      ],
      "execution_count": null,
      "outputs": [
        {
          "output_type": "display_data",
          "data": {
            "image/png": "[encoded data removed]",
            "text/plain": [
              "<Figure size 432x288 with 1 Axes>"
            ]
          },
          "metadata": {
            "needs_background": "light"
          }
        }
      ]
    },
    {
      "cell_type": "code",
      "metadata": {
        "colab": {
          "base_uri": "https://localhost:8080/"
        },
        "id": "0I71ehl1UOZb",
        "outputId": "4e40a810-4b90-4d58-b1bf-3e7d370b5439"
      },
      "source": [
        "new_complaint = ['I am a victim of identity theft and someone stole my identity and personal information to open up a Visa credit card account with Bank of America. The following Bank of America Visa credit card account do not belong to me : XXXX.']\n",
        "seq = tokenizer.texts_to_sequences(new_complaint)\n",
        "padded = pad_sequences(seq, maxlen=MAX_SEQUENCE_LENGTH)\n",
        "pred = model.predict(padded)\n",
        "labels = ['Credit reporting, credit repair services, or other personal consumer reports', 'Debt collection', 'Mortgage', 'Credit card or prepaid card', 'Student loan', 'Bank account or service', 'Checking or savings account', 'Consumer Loan', 'Payday loan, title loan, or personal loan', 'Vehicle loan or lease', 'Money transfer, virtual currency, or money service', 'Money transfers', 'Prepaid card']\n",
        "print(pred, labels[np.argmax(pred)])"
      ],
      "execution_count": null,
      "outputs": [
        {
          "output_type": "stream",
          "name": "stdout",
          "text": [
            "[[2.2577071e-05 5.2327425e-03 2.1947153e-05 1.3531166e-01 7.8029674e-01\n",
            "  6.6822052e-02 6.8106083e-04 1.2333518e-05 2.1327140e-03 2.4126610e-03\n",
            "  9.0920239e-06 6.0345029e-04 6.4409641e-03]] Student loan\n"
          ]
        }
      ]
    },
    {
      "cell_type": "code",
      "metadata": {
        "id": "gIsDWKL-3brF"
      },
      "source": [
        "from tensorflow.keras.layers import Conv1D, MaxPooling1D"
      ],
      "execution_count": null,
      "outputs": []
    },
    {
      "cell_type": "markdown",
      "metadata": {
        "id": "V8Tmi5le4-59"
      },
      "source": [
        "## LSTM + CNN"
      ]
    },
    {
      "cell_type": "code",
      "metadata": {
        "colab": {
          "base_uri": "https://localhost:8080/"
        },
        "id": "TdA49KpC2qM1",
        "outputId": "e07c3791-7e3c-42ce-9cf3-482436927606"
      },
      "source": [
        "top_words = 50000\n",
        "embedding_vecor_length = 32\n",
        "model = Sequential()\n",
        "model.add(Embedding(top_words, embedding_vecor_length, input_length=X.shape[1]))\n",
        "model.add(Conv1D(filters=32, kernel_size=3, padding='same', activation='relu'))\n",
        "model.add(MaxPooling1D(pool_size=2))\n",
        "model.add(LSTM(100))\n",
        "model.add(Dense(13, activation='sigmoid'))\n",
        "model.compile(loss='binary_crossentropy', optimizer='adam', metrics=['accuracy'])\n",
        "print(model.summary())\n",
        "history = model.fit(X_train, Y_train, epochs=epochs, batch_size=batch_size,validation_split=0.1,callbacks=[EarlyStopping(monitor='val_loss', patience=3, min_delta=0.0001)])# Final evaluation of the model\n",
        "scores = model.evaluate(X_test, Y_test, verbose=0)\n",
        "print(\"Accuracy: %.2f%%\" % (scores[1]*100))"
      ],
      "execution_count": null,
      "outputs": [
        {
          "name": "stdout",
          "output_type": "stream",
          "text": [
            "Model: \"sequential_1\"\n",
            "_________________________________________________________________\n",
            " Layer (type)                Output Shape              Param #   \n",
            "=================================================================\n",
            " embedding_1 (Embedding)     (None, 500, 32)           1600000   \n",
            "                                                                 \n",
            " conv1d (Conv1D)             (None, 500, 32)           3104      \n",
            "                                                                 \n",
            " max_pooling1d (MaxPooling1D  (None, 250, 32)          0         \n",
            " )                                                               \n",
            "                                                                 \n",
            " lstm_1 (LSTM)               (None, 100)               53200     \n",
            "                                                                 \n",
            " dense_1 (Dense)             (None, 13)                1313      \n",
            "                                                                 \n",
            "=================================================================\n",
            "Total params: 1,657,617\n",
            "Trainable params: 1,657,617\n",
            "Non-trainable params: 0\n",
            "_________________________________________________________________\n",
            "None\n",
            "Epoch 1/2\n",
            "3797/3797 [==============================] - 1119s 294ms/step - loss: 0.1039 - accuracy: 0.7244 - val_loss: 0.0696 - val_accuracy: 0.8259\n",
            "Epoch 2/2\n",
            "3797/3797 [==============================] - 1144s 301ms/step - loss: 0.0620 - accuracy: 0.8480 - val_loss: 0.0609 - val_accuracy: 0.8519\n",
            "Accuracy: 85.27%\n"
          ]
        }
      ]
    },
    {
      "cell_type": "code",
      "metadata": {
        "colab": {
          "base_uri": "https://localhost:8080/"
        },
        "id": "RBnn_e5P56T-",
        "outputId": "79d926c2-daf9-4a66-c796-a785aef76a7b"
      },
      "source": [
        "accr2 = model.evaluate(X_test,Y_test)\n",
        "print('Test set\\n  Loss: {:0.3f}\\n  Accuracy: {:0.3f}'.format(accr2[0],accr2[1]))"
      ],
      "execution_count": null,
      "outputs": [
        {
          "name": "stdout",
          "output_type": "stream",
          "text": [
            "938/938 [==============================] - 47s 50ms/step - loss: 0.0601 - accuracy: 0.8527\n",
            "Test set\n",
            "  Loss: 0.060\n",
            "  Accuracy: 0.853\n"
          ]
        }
      ]
    },
    {
      "cell_type": "code",
      "metadata": {
        "colab": {
          "base_uri": "https://localhost:8080/",
          "height": 281
        },
        "id": "c0CyBjXQneWG",
        "outputId": "9e8bff70-340f-45de-ced5-b1cb1f14c67a"
      },
      "source": [
        "plt.title('Loss')\n",
        "plt.plot(history.history['loss'], label='train')\n",
        "plt.plot(history.history['val_loss'], label='test')\n",
        "plt.legend()\n",
        "plt.show();"
      ],
      "execution_count": null,
      "outputs": [
        {
          "data": {
            "image/png": "[encoded data removed]",
            "text/plain": [
              "<Figure size 432x288 with 1 Axes>"
            ]
          },
          "metadata": {},
          "output_type": "display_data"
        }
      ]
    },
    {
      "cell_type": "code",
      "metadata": {
        "colab": {
          "base_uri": "https://localhost:8080/",
          "height": 281
        },
        "id": "tFfTVbp-neTW",
        "outputId": "fdf41892-3f95-48a7-d411-53fdaca762da"
      },
      "source": [
        "plt.title('Accuracy')\n",
        "plt.plot(history.history['accuracy'], label='train')\n",
        "plt.plot(history.history['val_accuracy'], label='test')\n",
        "plt.legend()\n",
        "plt.show();"
      ],
      "execution_count": null,
      "outputs": [
        {
          "data": {
            "image/png": "[encoded data removed]",
            "text/plain": [
              "<Figure size 432x288 with 1 Axes>"
            ]
          },
          "metadata": {},
          "output_type": "display_data"
        }
      ]
    },
    {
      "cell_type": "code",
      "metadata": {
        "colab": {
          "base_uri": "https://localhost:8080/"
        },
        "id": "KUfKCmBF8xlH",
        "outputId": "d48935e9-ac64-4d84-d74c-a65a431fa669"
      },
      "source": [
        "new_complaint = ['I am a victim of identity theft and someone stole my identity and personal information to open up a Visa credit card account with Bank of America. The following Bank of America Visa credit card account do not belong to me : XXXX.']\n",
        "seq = tokenizer.texts_to_sequences(new_complaint)\n",
        "padded = pad_sequences(seq, maxlen=MAX_SEQUENCE_LENGTH)\n",
        "pred = model.predict(padded)\n",
        "labels = ['Credit reporting, credit repair services, or other personal consumer reports', 'Debt collection', 'Mortgage', 'Credit card or prepaid card', 'Student loan', 'Bank account or service', 'Checking or savings account', 'Consumer Loan', 'Payday loan, title loan, or personal loan', 'Vehicle loan or lease', 'Money transfer, virtual currency, or money service', 'Money transfers', 'Prepaid card']\n",
        "print(pred, labels[np.argmax(pred)])"
      ],
      "execution_count": null,
      "outputs": [
        {
          "name": "stdout",
          "output_type": "stream",
          "text": [
            "[[8.2929233e-05 7.9631805e-04 7.4028831e-05 4.6487451e-02 9.2696452e-01\n",
            "  1.0872841e-02 1.6662478e-04 2.1905827e-05 7.0431284e-05 7.5209141e-04\n",
            "  1.6685366e-05 2.0280480e-04 7.1445107e-04]] Student loan\n"
          ]
        }
      ]
    },
    {
      "cell_type": "markdown",
      "metadata": {
        "id": "1JXc3e3H5EEv"
      },
      "source": [
        "## Neural Network"
      ]
    },
    {
      "cell_type": "code",
      "metadata": {
        "colab": {
          "base_uri": "https://localhost:8080/"
        },
        "id": "oxlCK0_v47s9",
        "outputId": "e8def29f-a261-4714-eef3-56f511dd6bdf"
      },
      "source": [
        "# create model\n",
        "model = Sequential()\n",
        "model.add(Dense(12, input_dim=500, activation='relu'))\n",
        "model.add(Dense(8, activation='relu'))\n",
        "model.add(Dense(13, activation='sigmoid'))\n",
        "# Compile model\n",
        "model.compile(loss='binary_crossentropy', optimizer='adam', metrics=['accuracy'])\n",
        "# Fit the model\n",
        "history = model.fit(X_train, Y_train, epochs=epochs, batch_size=batch_size,validation_split=0.1,callbacks=[EarlyStopping(monitor='val_loss', patience=3, min_delta=0.0001)])# Final evaluation of the model\n",
        "\n",
        "# Make predictions with tuned model"
      ],
      "execution_count": null,
      "outputs": [
        {
          "output_type": "stream",
          "name": "stdout",
          "text": [
            "Epoch 1/2\n",
            "3797/3797 [==============================] - 9s 2ms/step - loss: 2.0630 - accuracy: 0.4916 - val_loss: 0.1928 - val_accuracy: 0.5128\n",
            "Epoch 2/2\n",
            "3797/3797 [==============================] - 8s 2ms/step - loss: 0.1865 - accuracy: 0.5128 - val_loss: 0.1869 - val_accuracy: 0.5129\n"
          ]
        }
      ]
    },
    {
      "cell_type": "code",
      "metadata": {
        "colab": {
          "base_uri": "https://localhost:8080/"
        },
        "id": "7I09kPDJ5wOu",
        "outputId": "2aeb48c5-8dc3-4399-ba05-94ebc992e86c"
      },
      "source": [
        "accr3 = model.evaluate(X_test,Y_test)\n",
        "print('Test set\\n  Loss: {:0.3f}\\n  Accuracy: {:0.3f}'.format(accr3[0],accr3[1]))"
      ],
      "execution_count": null,
      "outputs": [
        {
          "output_type": "stream",
          "name": "stdout",
          "text": [
            "938/938 [==============================] - 1s 1ms/step - loss: 0.1912 - accuracy: 0.5146\n",
            "Test set\n",
            "  Loss: 0.191\n",
            "  Accuracy: 0.515\n"
          ]
        }
      ]
    },
    {
      "cell_type": "code",
      "metadata": {
        "colab": {
          "base_uri": "https://localhost:8080/",
          "height": 281
        },
        "id": "Jsl4PoCQoiC7",
        "outputId": "60a67a92-a396-4184-dfdf-0664dfda12c4"
      },
      "source": [
        "plt.title('Loss')\n",
        "plt.plot(history.history['loss'], label='train')\n",
        "plt.plot(history.history['val_loss'], label='test')\n",
        "plt.legend()\n",
        "plt.show();"
      ],
      "execution_count": null,
      "outputs": [
        {
          "output_type": "display_data",
          "data": {
            "image/png": "[encoded data removed]",
            "text/plain": [
              "<Figure size 432x288 with 1 Axes>"
            ]
          },
          "metadata": {
            "needs_background": "light"
          }
        }
      ]
    },
    {
      "cell_type": "code",
      "metadata": {
        "colab": {
          "base_uri": "https://localhost:8080/",
          "height": 281
        },
        "id": "bOz9zF-Qoh7w",
        "outputId": "d79ac40d-e775-4f2e-af74-49196d186e06"
      },
      "source": [
        "plt.title('Accuracy')\n",
        "plt.plot(history.history['accuracy'], label='train')\n",
        "plt.plot(history.history['val_accuracy'], label='test')\n",
        "plt.legend()\n",
        "plt.show();"
      ],
      "execution_count": null,
      "outputs": [
        {
          "output_type": "display_data",
          "data": {
            "image/png": "[encoded data removed]",
            "text/plain": [
              "<Figure size 432x288 with 1 Axes>"
            ]
          },
          "metadata": {
            "needs_background": "light"
          }
        }
      ]
    },
    {
      "cell_type": "code",
      "metadata": {
        "id": "FkAAjr170L4o",
        "colab": {
          "base_uri": "https://localhost:8080/"
        },
        "outputId": "2c919937-1305-4556-fd5e-abd62f0df308"
      },
      "source": [
        "new_complaint = ['I am a victim of identity theft and someone stole my identity and personal information to open up a Visa credit card account with Bank of America. The following Bank of America Visa credit card account do not belong to me : XXXX.']\n",
        "seq = tokenizer.texts_to_sequences(new_complaint)\n",
        "padded = pad_sequences(seq, maxlen=MAX_SEQUENCE_LENGTH)\n",
        "pred = model.predict(padded)\n",
        "labels = ['Credit reporting, credit repair services, or other personal consumer reports', 'Debt collection', 'Mortgage', 'Credit card or prepaid card', 'Student loan', 'Bank account or service', 'Checking or savings account', 'Consumer Loan', 'Payday loan, title loan, or personal loan', 'Vehicle loan or lease', 'Money transfer, virtual currency, or money service', 'Money transfers', 'Prepaid card']\n",
        "print(pred, labels[np.argmax(pred)])"
      ],
      "execution_count": null,
      "outputs": [
        {
          "output_type": "stream",
          "name": "stdout",
          "text": [
            "[[1.1835992e-03 5.7758451e-02 2.7599931e-03 9.8157942e-02 5.1241404e-01\n",
            "  1.6171533e-01 2.6747465e-02 1.1108518e-03 7.7822030e-02 1.4650524e-02\n",
            "  4.7352910e-04 1.9312829e-02 2.1903038e-02]] Student loan\n"
          ]
        }
      ]
    },
    {
      "cell_type": "markdown",
      "metadata": {
        "id": "52tXp_I9y_6m"
      },
      "source": [
        "## Bi-LSTM MODEL"
      ]
    },
    {
      "cell_type": "code",
      "metadata": {
        "colab": {
          "base_uri": "https://localhost:8080/"
        },
        "id": "yiRGQUW1y_Kh",
        "outputId": "6db740f3-9fb7-43c1-d2fe-2dadab7cca89"
      },
      "source": [
        "import keras\n",
        "from keras import layers\n",
        "max_features = 50000  # Only consider the top 20k words\n",
        "maxlen = 200  \n",
        "inputs = keras.Input(shape=(None,), dtype=\"int32\")\n",
        "# Embed each integer in a 128-dimensional vector\n",
        "x = layers.Embedding(max_features, 128)(inputs)\n",
        "# Add 2 bidirectional LSTMs\n",
        "x = layers.Bidirectional(layers.LSTM(64, return_sequences=True))(x)\n",
        "x = layers.Bidirectional(layers.LSTM(64))(x)\n",
        "\n",
        "# Add a classifier\n",
        "outputs = layers.Dense(13, activation=\"sigmoid\")(x)\n",
        "model = keras.Model(inputs, outputs)\n",
        "model.summary()\n",
        "model.compile(\"adam\", \"binary_crossentropy\", metrics=[\"accuracy\"])"
      ],
      "execution_count": null,
      "outputs": [
        {
          "name": "stdout",
          "output_type": "stream",
          "text": [
            "Model: \"model_1\"\n",
            "_________________________________________________________________\n",
            " Layer (type)                Output Shape              Param #   \n",
            "=================================================================\n",
            " input_3 (InputLayer)        [(None, None)]            0         \n",
            "                                                                 \n",
            " embedding_3 (Embedding)     (None, None, 128)         6400000   \n",
            "                                                                 \n",
            " bidirectional_2 (Bidirectio  (None, None, 128)        98816     \n",
            " nal)                                                            \n",
            "                                                                 \n",
            " bidirectional_3 (Bidirectio  (None, 128)              98816     \n",
            " nal)                                                            \n",
            "                                                                 \n",
            " dense_6 (Dense)             (None, 13)                1677      \n",
            "                                                                 \n",
            "=================================================================\n",
            "Total params: 6,599,309\n",
            "Trainable params: 6,599,309\n",
            "Non-trainable params: 0\n",
            "_________________________________________________________________\n"
          ]
        }
      ]
    },
    {
      "cell_type": "code",
      "metadata": {
        "colab": {
          "base_uri": "https://localhost:8080/"
        },
        "id": "x1dD8_BtzVQP",
        "outputId": "8a664e9f-4cd2-40ce-98ac-7e6651c7aa90"
      },
      "source": [
        "history = model.fit(X_train, Y_train, epochs=epochs, batch_size=batch_size,validation_split=0.1,callbacks=[EarlyStopping(monitor='val_loss', patience=3, min_delta=0.0001)])# Final evaluation of the model\n"
      ],
      "execution_count": null,
      "outputs": [
        {
          "name": "stdout",
          "output_type": "stream",
          "text": [
            "Epoch 1/2\n",
            "3797/3797 [==============================] - 6676s 2s/step - loss: 0.1010 - accuracy: 0.7261 - val_loss: 0.0686 - val_accuracy: 0.8288\n",
            "Epoch 2/2\n",
            "3797/3797 [==============================] - 6618s 2s/step - loss: 0.0596 - accuracy: 0.8549 - val_loss: 0.0606 - val_accuracy: 0.8537\n"
          ]
        }
      ]
    },
    {
      "cell_type": "code",
      "metadata": {
        "colab": {
          "base_uri": "https://localhost:8080/"
        },
        "id": "OO8kEDnnz67o",
        "outputId": "2904d9ec-960b-465f-dca8-95ed6171b912"
      },
      "source": [
        "accr4 = model.evaluate(X_test,Y_test)\n",
        "print('Test set\\n  Loss: {:0.3f}\\n  Accuracy: {:0.3f}'.format(accr4[0],accr4[1]))"
      ],
      "execution_count": null,
      "outputs": [
        {
          "name": "stdout",
          "output_type": "stream",
          "text": [
            "938/938 [==============================] - 220s 234ms/step - loss: 0.0592 - accuracy: 0.8556\n",
            "Test set\n",
            "  Loss: 0.059\n",
            "  Accuracy: 0.856\n"
          ]
        }
      ]
    },
    {
      "cell_type": "code",
      "metadata": {
        "colab": {
          "base_uri": "https://localhost:8080/",
          "height": 281
        },
        "id": "3sKf70ybz651",
        "outputId": "8da9a008-5ea5-405d-bddb-e0299a3c0676"
      },
      "source": [
        "plt.title('Loss')\n",
        "plt.plot(history.history['loss'], label='train')\n",
        "plt.plot(history.history['val_loss'], label='test')\n",
        "plt.legend()\n",
        "plt.show();"
      ],
      "execution_count": null,
      "outputs": [
        {
          "data": {
            "image/png": "[encoded data removed]",
            "text/plain": [
              "<Figure size 432x288 with 1 Axes>"
            ]
          },
          "metadata": {},
          "output_type": "display_data"
        }
      ]
    },
    {
      "cell_type": "code",
      "metadata": {
        "colab": {
          "base_uri": "https://localhost:8080/",
          "height": 281
        },
        "id": "wC7wJiFvz62k",
        "outputId": "e4a16f3e-d2c3-4ee4-ed94-2b1b24a6d2c5"
      },
      "source": [
        "plt.title('Accuracy')\n",
        "plt.plot(history.history['accuracy'], label='train')\n",
        "plt.plot(history.history['val_accuracy'], label='test')\n",
        "plt.legend()\n",
        "plt.show();"
      ],
      "execution_count": null,
      "outputs": [
        {
          "data": {
            "image/png": "[encoded data removed]",
            "text/plain": [
              "<Figure size 432x288 with 1 Axes>"
            ]
          },
          "metadata": {},
          "output_type": "display_data"
        }
      ]
    },
    {
      "cell_type": "code",
      "metadata": {
        "colab": {
          "base_uri": "https://localhost:8080/"
        },
        "id": "w1OsJAib0IR2",
        "outputId": "4525fe2b-9e9e-412c-e9f8-b355c7fcb0e0"
      },
      "source": [
        "new_complaint = ['I am a victim of identity theft and someone stole my identity and personal information to open up a Visa credit card account with Bank of America. The following Bank of America Visa credit card account do not belong to me : XXXX.']\n",
        "seq = tokenizer.texts_to_sequences(new_complaint)\n",
        "padded = pad_sequences(seq, maxlen=MAX_SEQUENCE_LENGTH)\n",
        "pred = model.predict(padded)\n",
        "labels = ['Credit reporting, credit repair services, or other personal consumer reports', 'Debt collection', 'Mortgage', 'Credit card or prepaid card', 'Student loan', 'Bank account or service', 'Checking or savings account', 'Consumer Loan', 'Payday loan, title loan, or personal loan', 'Vehicle loan or lease', 'Money transfer, virtual currency, or money service', 'Money transfers', 'Prepaid card']\n",
        "print(pred, labels[np.argmax(pred)])"
      ],
      "execution_count": null,
      "outputs": [
        {
          "name": "stdout",
          "output_type": "stream",
          "text": [
            "[[2.0803531e-05 4.1419268e-04 2.4834253e-05 2.7394593e-02 9.7960806e-01\n",
            "  4.2840838e-03 1.9943714e-04 3.0684507e-06 9.9887566e-06 1.2219814e-04\n",
            "  5.3425642e-06 1.1530539e-04 3.0526519e-04]] Student loan\n"
          ]
        }
      ]
    },
    {
      "cell_type": "markdown",
      "metadata": {
        "id": "e0D5oDFZ67pW"
      },
      "source": [
        "## RNN\n"
      ]
    },
    {
      "cell_type": "code",
      "metadata": {
        "id": "I5MFHdAB7IRm"
      },
      "source": [
        "import keras\n",
        "from keras import layers"
      ],
      "execution_count": null,
      "outputs": []
    },
    {
      "cell_type": "code",
      "metadata": {
        "colab": {
          "base_uri": "https://localhost:8080/"
        },
        "id": "MdVwZigz5wMF",
        "outputId": "ac6a3617-13a0-4d87-cca6-8d2372617fc7"
      },
      "source": [
        "MAX_NUM_WORDS = 50000\n",
        "model = Sequential()\n",
        "model.add(Embedding(MAX_NUM_WORDS, 128))\n",
        "model.add(LSTM(units = 128, dropout = 0.2, recurrent_dropout = 0.2))\n",
        "model.add(Dense(units = 13, activation = 'sigmoid'))\n",
        "print(model.summary())\n",
        "model.compile(\"adam\", \"binary_crossentropy\", metrics=[\"accuracy\"])\n",
        "history = model.fit(X_train, Y_train, epochs=2, batch_size=64,validation_split=0.1,callbacks=[EarlyStopping(monitor='val_loss', patience=3, min_delta=0.0001)])# Final evaluation of the model"
      ],
      "execution_count": null,
      "outputs": [
        {
          "name": "stdout",
          "output_type": "stream",
          "text": [
            "WARNING:tensorflow:Layer lstm will not use cuDNN kernels since it doesn't meet the criteria. It will use a generic GPU kernel as fallback when running on GPU.\n",
            "Model: \"sequential\"\n",
            "_________________________________________________________________\n",
            " Layer (type)                Output Shape              Param #   \n",
            "=================================================================\n",
            " embedding (Embedding)       (None, None, 128)         6400000   \n",
            "                                                                 \n",
            " lstm (LSTM)                 (None, 128)               131584    \n",
            "                                                                 \n",
            " dense (Dense)               (None, 13)                1677      \n",
            "                                                                 \n",
            "=================================================================\n",
            "Total params: 6,533,261\n",
            "Trainable params: 6,533,261\n",
            "Non-trainable params: 0\n",
            "_________________________________________________________________\n",
            "None\n",
            "Epoch 1/2\n",
            "127/127 [==============================] - 405s 3s/step - loss: 0.2359 - accuracy: 0.4414 - val_loss: 0.1879 - val_accuracy: 0.4856\n",
            "Epoch 2/2\n",
            "127/127 [==============================] - 393s 3s/step - loss: 0.1877 - accuracy: 0.4590 - val_loss: 0.1800 - val_accuracy: 0.4822\n"
          ]
        }
      ]
    },
    {
      "cell_type": "markdown",
      "metadata": {
        "id": "l3Dx0j8xpRhV"
      },
      "source": [
        "## Machine Learning"
      ]
    },
    {
      "cell_type": "code",
      "metadata": {
        "id": "zGG-hLAKXZlu"
      },
      "source": [
        "import pandas as pd\n",
        "\n",
        "df_tmp = pd.read_csv(\"/content/drive/MyDrive/consumer_complaints_small.csv\",low_memory=False)"
      ],
      "execution_count": null,
      "outputs": []
    },
    {
      "cell_type": "code",
      "metadata": {
        "colab": {
          "base_uri": "https://localhost:8080/",
          "height": 423
        },
        "id": "xIbQQazJhle7",
        "outputId": "7c609fc1-4bc3-44b8-e03e-351b622aec5c"
      },
      "source": [
        "df_tmp"
      ],
      "execution_count": null,
      "outputs": [
        {
          "output_type": "execute_result",
          "data": {
            "text/html": [
              "<div>\n",
              "<style scoped>\n",
              "    .dataframe tbody tr th:only-of-type {\n",
              "        vertical-align: middle;\n",
              "    }\n",
              "\n",
              "    .dataframe tbody tr th {\n",
              "        vertical-align: top;\n",
              "    }\n",
              "\n",
              "    .dataframe thead th {\n",
              "        text-align: right;\n",
              "    }\n",
              "</style>\n",
              "<table border=\"1\" class=\"dataframe\">\n",
              "  <thead>\n",
              "    <tr style=\"text-align: right;\">\n",
              "      <th></th>\n",
              "      <th>Unnamed: 0</th>\n",
              "      <th>Product</th>\n",
              "      <th>Consumer complaint narrative</th>\n",
              "    </tr>\n",
              "  </thead>\n",
              "  <tbody>\n",
              "    <tr>\n",
              "      <th>0</th>\n",
              "      <td>1</td>\n",
              "      <td>Vehicle loan or lease</td>\n",
              "      <td>I contacted Ally on Friday XX/XX/XXXX after fa...</td>\n",
              "    </tr>\n",
              "    <tr>\n",
              "      <th>1</th>\n",
              "      <td>3</td>\n",
              "      <td>Credit reporting, credit repair services, or o...</td>\n",
              "      <td>I was told my bankruptcy would be off my credi...</td>\n",
              "    </tr>\n",
              "    <tr>\n",
              "      <th>2</th>\n",
              "      <td>8</td>\n",
              "      <td>Credit reporting, credit repair services, or o...</td>\n",
              "      <td>Hello This complaint is against the three cred...</td>\n",
              "    </tr>\n",
              "    <tr>\n",
              "      <th>3</th>\n",
              "      <td>9</td>\n",
              "      <td>Credit reporting, credit repair services, or o...</td>\n",
              "      <td>I am a victim of Identity Theft &amp; currently ha...</td>\n",
              "    </tr>\n",
              "    <tr>\n",
              "      <th>4</th>\n",
              "      <td>10</td>\n",
              "      <td>Credit reporting, credit repair services, or o...</td>\n",
              "      <td>Dear CFPB, The purpose of this letter is to in...</td>\n",
              "    </tr>\n",
              "    <tr>\n",
              "      <th>...</th>\n",
              "      <td>...</td>\n",
              "      <td>...</td>\n",
              "      <td>...</td>\n",
              "    </tr>\n",
              "    <tr>\n",
              "      <th>824992</th>\n",
              "      <td>2361623</td>\n",
              "      <td>Credit card</td>\n",
              "      <td>Automated calls from \" XXXX with Capital One '...</td>\n",
              "    </tr>\n",
              "    <tr>\n",
              "      <th>824993</th>\n",
              "      <td>2361624</td>\n",
              "      <td>Debt collection</td>\n",
              "      <td>I have disputed my debts several times with no...</td>\n",
              "    </tr>\n",
              "    <tr>\n",
              "      <th>824994</th>\n",
              "      <td>2361625</td>\n",
              "      <td>Mortgage</td>\n",
              "      <td>My father died in XX/XX/XXXX. Left me his only...</td>\n",
              "    </tr>\n",
              "    <tr>\n",
              "      <th>824995</th>\n",
              "      <td>2361626</td>\n",
              "      <td>Credit reporting</td>\n",
              "      <td>cfbp i would Like to file a complaint on Exper...</td>\n",
              "    </tr>\n",
              "    <tr>\n",
              "      <th>824996</th>\n",
              "      <td>2361627</td>\n",
              "      <td>Credit reporting</td>\n",
              "      <td>My husband and I are in the middle of an FHA S...</td>\n",
              "    </tr>\n",
              "  </tbody>\n",
              "</table>\n",
              "<p>824997 rows × 3 columns</p>\n",
              "</div>"
            ],
            "text/plain": [
              "        Unnamed: 0  ...                       Consumer complaint narrative\n",
              "0                1  ...  I contacted Ally on Friday XX/XX/XXXX after fa...\n",
              "1                3  ...  I was told my bankruptcy would be off my credi...\n",
              "2                8  ...  Hello This complaint is against the three cred...\n",
              "3                9  ...  I am a victim of Identity Theft & currently ha...\n",
              "4               10  ...  Dear CFPB, The purpose of this letter is to in...\n",
              "...            ...  ...                                                ...\n",
              "824992     2361623  ...  Automated calls from \" XXXX with Capital One '...\n",
              "824993     2361624  ...  I have disputed my debts several times with no...\n",
              "824994     2361625  ...  My father died in XX/XX/XXXX. Left me his only...\n",
              "824995     2361626  ...  cfbp i would Like to file a complaint on Exper...\n",
              "824996     2361627  ...  My husband and I are in the middle of an FHA S...\n",
              "\n",
              "[824997 rows x 3 columns]"
            ]
          },
          "metadata": {},
          "execution_count": 2
        }
      ]
    },
    {
      "cell_type": "code",
      "metadata": {
        "id": "COH-xVrOeEtN"
      },
      "source": [
        "df_tmp = df_tmp.drop(['Unnamed: 0'],axis=1)"
      ],
      "execution_count": null,
      "outputs": []
    },
    {
      "cell_type": "code",
      "metadata": {
        "id": "7bgY7JFFeaEg"
      },
      "source": [
        "df=df_tmp[:10000]"
      ],
      "execution_count": null,
      "outputs": []
    },
    {
      "cell_type": "code",
      "metadata": {
        "colab": {
          "base_uri": "https://localhost:8080/"
        },
        "id": "A_h4cyh8eeH2",
        "outputId": "90bd6aab-ba62-44c4-bdde-ae982346f004"
      },
      "source": [
        "df.shape"
      ],
      "execution_count": null,
      "outputs": [
        {
          "output_type": "execute_result",
          "data": {
            "text/plain": [
              "(10000, 2)"
            ]
          },
          "metadata": {},
          "execution_count": 5
        }
      ]
    },
    {
      "cell_type": "code",
      "metadata": {
        "colab": {
          "base_uri": "https://localhost:8080/",
          "height": 206
        },
        "id": "3IlefAuSaLvc",
        "outputId": "68b22a78-e5f6-4c18-a3a6-a59a3af26df8"
      },
      "source": [
        "from io import StringIO\n",
        "col = ['Product', 'Consumer complaint narrative']\n",
        "df = df[col]\n",
        "df = df[pd.notnull(df['Consumer complaint narrative'])]\n",
        "df.columns = ['Product', 'Consumer_complaint_narrative']\n",
        "df['category_id'] = df['Product'].factorize()[0]\n",
        "category_id_df = df[['Product', 'category_id']].drop_duplicates().sort_values('category_id')\n",
        "category_to_id = dict(category_id_df.values)\n",
        "id_to_category = dict(category_id_df[['category_id', 'Product']].values)\n",
        "df.head()"
      ],
      "execution_count": null,
      "outputs": [
        {
          "output_type": "execute_result",
          "data": {
            "text/html": [
              "<div>\n",
              "<style scoped>\n",
              "    .dataframe tbody tr th:only-of-type {\n",
              "        vertical-align: middle;\n",
              "    }\n",
              "\n",
              "    .dataframe tbody tr th {\n",
              "        vertical-align: top;\n",
              "    }\n",
              "\n",
              "    .dataframe thead th {\n",
              "        text-align: right;\n",
              "    }\n",
              "</style>\n",
              "<table border=\"1\" class=\"dataframe\">\n",
              "  <thead>\n",
              "    <tr style=\"text-align: right;\">\n",
              "      <th></th>\n",
              "      <th>Product</th>\n",
              "      <th>Consumer_complaint_narrative</th>\n",
              "      <th>category_id</th>\n",
              "    </tr>\n",
              "  </thead>\n",
              "  <tbody>\n",
              "    <tr>\n",
              "      <th>0</th>\n",
              "      <td>Vehicle loan or lease</td>\n",
              "      <td>I contacted Ally on Friday XX/XX/XXXX after fa...</td>\n",
              "      <td>0</td>\n",
              "    </tr>\n",
              "    <tr>\n",
              "      <th>1</th>\n",
              "      <td>Credit reporting, credit repair services, or o...</td>\n",
              "      <td>I was told my bankruptcy would be off my credi...</td>\n",
              "      <td>1</td>\n",
              "    </tr>\n",
              "    <tr>\n",
              "      <th>2</th>\n",
              "      <td>Credit reporting, credit repair services, or o...</td>\n",
              "      <td>Hello This complaint is against the three cred...</td>\n",
              "      <td>1</td>\n",
              "    </tr>\n",
              "    <tr>\n",
              "      <th>3</th>\n",
              "      <td>Credit reporting, credit repair services, or o...</td>\n",
              "      <td>I am a victim of Identity Theft &amp; currently ha...</td>\n",
              "      <td>1</td>\n",
              "    </tr>\n",
              "    <tr>\n",
              "      <th>4</th>\n",
              "      <td>Credit reporting, credit repair services, or o...</td>\n",
              "      <td>Dear CFPB, The purpose of this letter is to in...</td>\n",
              "      <td>1</td>\n",
              "    </tr>\n",
              "  </tbody>\n",
              "</table>\n",
              "</div>"
            ],
            "text/plain": [
              "                                             Product  ... category_id\n",
              "0                              Vehicle loan or lease  ...           0\n",
              "1  Credit reporting, credit repair services, or o...  ...           1\n",
              "2  Credit reporting, credit repair services, or o...  ...           1\n",
              "3  Credit reporting, credit repair services, or o...  ...           1\n",
              "4  Credit reporting, credit repair services, or o...  ...           1\n",
              "\n",
              "[5 rows x 3 columns]"
            ]
          },
          "metadata": {},
          "execution_count": 6
        }
      ]
    },
    {
      "cell_type": "code",
      "metadata": {
        "colab": {
          "base_uri": "https://localhost:8080/"
        },
        "id": "PcAZTvxMGtQ0",
        "outputId": "900ed99e-4041-4bdc-99e3-0628eed654d0"
      },
      "source": [
        "df['Consumer_complaint_narrative'].value_counts()"
      ],
      "execution_count": null,
      "outputs": [
        {
          "output_type": "execute_result",
          "data": {
            "text/plain": [
              "I would like to request the suppression of the following items from my credit report, which are the result of my falling victim to identity theft. This information does not relate to [ transactions that I have made/accounts that I have opened ], as the attached supporting documentation can attest. As such, it should be blocked from appearing on my credit report pursuant to section 605B of the Fair Credit Reporting Act.                                                                                                                                                                                                                                                                                                                                                                                                                                                                                                                                                                                                                                                                                                                                                                                                                                                                                                                                                                                                                                                                                                                                                                                                                                                                                                                                                                                                                                                                                                                                                                                                                                                                                                                                                                                                                                                                                                                                                                                                                                                                                                                                                                                                                                                                                                                                                                                                                                                                                                                                                                                                                                                                                                                                                         21\n",
              "I am a victim of identity theft and this debt does not belong to me. Please see the identity theft report and legal affidavit attached.                                                                                                                                                                                                                                                                                                                                                                                                                                                                                                                                                                                                                                                                                                                                                                                                                                                                                                                                                                                                                                                                                                                                                                                                                                                                                                                                                                                                                                                                                                                                                                                                                                                                                                                                                                                                                                                                                                                                                                                                                                                                                                                                                                                                                                                                                                                                                                                                                                                                                                                                                                                                                                                                                                                                                                                                                                                                                                                                                                                                                                                        17\n",
              "There are many mistakes appear in my report without my understanding.                                                                                                                                                                                                                                                                                                                                                                                                                                                                                                                                                                                                                                                                                                                                                                                                                                                                                                                                                                                                                                                                                                                                                                                                                                                                                                                                                                                                                                                                                                                                                                                                                                                                                                                                                                                                                                                                                                                                                                                                                                                                                                                                                                                                                                                                                                                                                                                                                                                                                                                                                                                                                                                                                                                                                                                                                                                                                                                                                                                                                                                                                                                          16\n",
              "The credit bureaus are reporting inaccurate/outdated/incomplete personal information.                                                                                                                                                                                                                                                                                                                                                                                                                                                                                                                                                                                                                                                                                                                                                                                                                                                                                                                                                                                                                                                                                                                                                                                                                                                                                                                                                                                                                                                                                                                                                                                                                                                                                                                                                                                                                                                                                                                                                                                                                                                                                                                                                                                                                                                                                                                                                                                                                                                                                                                                                                                                                                                                                                                                                                                                                                                                                                                                                                                                                                                                                                          15\n",
              "I am a victim of identity theft                                                                                                                                                                                                                                                                                                                                                                                                                                                                                                                                                                                                                                                                                                                                                                                                                                                                                                                                                                                                                                                                                                                                                                                                                                                                                                                                                                                                                                                                                                                                                                                                                                                                                                                                                                                                                                                                                                                                                                                                                                                                                                                                                                                                                                                                                                                                                                                                                                                                                                                                                                                                                                                                                                                                                                                                                                                                                                                                                                                                                                                                                                                                                                 9\n",
              "                                                                                                                                                                                                                                                                                                                                                                                                                                                                                                                                                                                                                                                                                                                                                                                                                                                                                                                                                                                                                                                                                                                                                                                                                                                                                                                                                                                                                                                                                                                                                                                                                                                                                                                                                                                                                                                                                                                                                                                                                                                                                                                                                                                                                                                                                                                                                                                                                                                                                                                                                                                                                                                                                                                                                                                                                                                                                                                                                                                                                                                                                                                                                                                               ..\n",
              "I was a cosigner on an auto loan with my ex wife and we divorced and it was stated in the divorce decree that she will take up the payments and be responsible for the auto loan. I remarried and applied for a mortgage loan and was notified that I had a repossession on my report from that auto loan. I called the auto loan company and asked them what i could do because I could not have that on my credit. I asked for the car back and they notified me that the cal was sold but not once did I receive mail or any call informing me about the repossession of the vehicle.                                                                                                                                                                                                                                                                                                                                                                                                                                                                                                                                                                                                                                                                                                                                                                                                                                                                                                                                                                                                                                                                                                                                                                                                                                                                                                                                                                                                                                                                                                                                                                                                                                                                                                                                                                                                                                                                                                                                                                                                                                                                                                                                                                                                                                                                                                                                                                                                                                                                                                                                                                                                        1\n",
              "Syn/Walmart account number XXXX is reporting to XXXX  that I owe  {$1100.00}. The problem is, I spoke to an agent at the bank and he could not give me the date of first delinquency. He mentioned the date the account was charged off as XX/XX/XXXX. According to his / their bank records they are saying the account should fall off the credit reporting agencies like XXXX, XXXX  and XXXX in seven years on XX/XX/XXXX. However, this is not valid if the \" date of charge off '' is months or even a year from the very first date I was late and/or missed a payment and never did get caught up. Therefore, this account could fall of my credit report as early as NOW. The bank can not and will not give me the proper information of delinquency, thus reporting this account to XXXX, XXXX and XXXX as incorrect and making this account more damaging becasue it acts newer when trying to receive credit from business.                                                                                                                                                                                                                                                                                                                                                                                                                                                                                                                                                                                                                                                                                                                                                                                                                                                                                                                                                                                                                                                                                                                                                                                                                                                                                                                                                                                                                                                                                                                                                                                                                                                                                                                                                                                                                                                                                                                                                                                                                                                                                                                                                                                                                                                        1\n",
              "I submitted my Income-Based Repayment plan application on XX/XX/XXXX ( my deadline was XX/XX/XXXX ). On XX/XX/XXXX I received an email that my application couldn't be processed and that I would receive a letter detailing why. I was told I was in a pending status. On XX/XX/XXXX I received a vague letter in my XXXX XXXX inbox that either my current income couldn't be determined or the income documentation was more than 90 days old and that I should submit new documentation \" within the next couple of days. '' Nowhere was it mentioned that my interest could capitalize. I realized that the documentation I had submitted was from XX/XX/XXXX ( so 10 days off from my submission date ) and submitted a new pay stub on XX/XX/XXXX ( in the \" next couple of days '' as requested by XXXX ). I then randomly logged in to my account on XX/XX/XXXX and noticed that my interest had been capitalized on XX/XX/XXXX! I also noticed on XX/XX/XXXX that there was a letter in my inbox ( which I had NOT been notified of by email and would not have seen otherwise ) stating that \" Since we did not receive your complete annual documentation, your new payment amount is not based on your income, '' even though I had submitted the correct documentation on XX/XX/XXXX. I called XXXX on XX/XX/XXXX ( since XX/XX/XXXX was a weekend ) and a request was placed to look into this. I called again on XX/XX/XXXX to check on status and was told that it may take 7-10 business days. They were able to finally process by IDR Request at that time. I called again on XX/XX/XXXX to check on the status and was told they were very busy and it may take up to 20 business days. I called again on XX/XX/XXXX and was told that the review of my case was completed on XX/XX/XXXX and they had denied my appeal to \" de-capitalize '' my interest because I missed the deadline. Throughout the whole process I talked to multiple XXXX   reps. Each person had a different answer for me. Some employees told me that interest can never be \" de-capitalized, '' while others said that was not true. Several employees told me that it doesn't matter that the interested was capitalized since I was in PSLF and it wouldn't matter in the end ( I don't plan to use it ). While my initial income verification form was off by 10 days, this would have been easily fixable if XXXX would have processed my application in a timely manner ( before the XXXX deadline ). I submitted my new paperwork in a timely manner. I also find it egregious that the letter telling me my interest was capitalized stated that I hadn't completed my paperwork ( even though I had ) and it was NOT sent to my email inbox until XX/XX/XXXX. Additionally, besides employees giving me completely different information literally every time I call XXXX, they never provide any written confirmation of our conversations or a case number, so they rely on their completely inaccurate internal information ( i.e. gentleman on XX/XX/XXXX saying my review has closed on XXXX, when the person I spoke to on XX/XX/XXXX told me case was still open for review ).     1\n",
              "I have a loan from XXXX XXXX XXXX  XXXX XXXX XXXX XXXX XXXX, MO XXXX ( XXXX ) XXXX The manager there has continued to call me and my friends and family, even ones she has never been authorized to after being repeatedly told by myself and them to stop, she has even called from different numbers when blocked and calling my work place multiple times after also being asked more than politely many times to cease any and all contact and that I would like to deal with another branch or corporate to deal with payments on my XX/XX/2018 loan. She has made it into some personal vendetta as if the money came from her personally and not the company she works for. I am 8 months pregnant and it is causing me a severe amount of stress and calls are often early or late and it is hard enough to sleep anymore as is. I have even considered filing harassment charges on the manager herself at the local police. I do not know what else to do she is fixated, I switched jobs from working at a XXXX  where she was never supposed to be able to call through to me while on post for safety reasons but still did, to a XXXX XXXX  and she was calling my new work place before I said to anyone or anywhere publicly I was working there. I had been there just a couple days. It is very frightening how she got that information I have no idea. It is unprofessional and vindictive.                                                                                                                                                                                                                                                                                                                                                                                                                                                                                                                                                                                                                                                                                                                                                                                                                                                                                                                                                                                                                                                                                                                                                                                                                                                                                                                                                                                                                                                                                                                                                                                                                                                                                                                                                                                 1\n",
              "I have asked the caller twice not call me at work. My boss has stated this is violation of the company 's policy of personal time during working hours                                                                                                                                                                                                                                                                                                                                                                                                                                                                                                                                                                                                                                                                                                                                                                                                                                                                                                                                                                                                                                                                                                                                                                                                                                                                                                                                                                                                                                                                                                                                                                                                                                                                                                                                                                                                                                                                                                                                                                                                                                                                                                                                                                                                                                                                                                                                                                                                                                                                                                                                                                                                                                                                                                                                                                                                                                                                                                                                                                                                                                          1\n",
              "Name: Consumer_complaint_narrative, Length: 9767, dtype: int64"
            ]
          },
          "metadata": {},
          "execution_count": 8
        }
      ]
    },
    {
      "cell_type": "code",
      "metadata": {
        "colab": {
          "base_uri": "https://localhost:8080/",
          "height": 752
        },
        "id": "ovbrvltVaLsV",
        "outputId": "d800c969-cbd8-4298-f9de-903e16e08a98"
      },
      "source": [
        "import matplotlib.pyplot as plt\n",
        "fig = plt.figure(figsize=(8,6))\n",
        "df.groupby('Product').Consumer_complaint_narrative.count().plot.bar(ylim=0)\n",
        "plt.show()"
      ],
      "execution_count": null,
      "outputs": [
        {
          "output_type": "display_data",
          "data": {
            "image/png": "[encoded data removed]",
            "text/plain": [
              "<Figure size 576x432 with 1 Axes>"
            ]
          },
          "metadata": {
            "needs_background": "light"
          }
        }
      ]
    },
    {
      "cell_type": "code",
      "metadata": {
        "colab": {
          "base_uri": "https://localhost:8080/"
        },
        "id": "lUH5Fd4eaZas",
        "outputId": "ee166ef3-1e14-4881-cda6-299feb41c2f4"
      },
      "source": [
        "from sklearn.feature_extraction.text import TfidfVectorizer\n",
        "tfidf = TfidfVectorizer(sublinear_tf=True, min_df=5, norm='l2', encoding='latin-1', ngram_range=(1, 2), stop_words='english')\n",
        "features = tfidf.fit_transform(df.Consumer_complaint_narrative).toarray()\n",
        "labels = df.category_id\n",
        "features.shape"
      ],
      "execution_count": null,
      "outputs": [
        {
          "output_type": "execute_result",
          "data": {
            "text/plain": [
              "(10000, 31652)"
            ]
          },
          "metadata": {},
          "execution_count": 10
        }
      ]
    },
    {
      "cell_type": "code",
      "metadata": {
        "colab": {
          "base_uri": "https://localhost:8080/"
        },
        "id": "ElvwAl8RaZX7",
        "outputId": "551754f5-578c-443d-ac04-0f3d46df43ca"
      },
      "source": [
        "from sklearn.feature_selection import chi2\n",
        "import numpy as np\n",
        "N = 2\n",
        "for Product, category_id in sorted(category_to_id.items()):\n",
        "  features_chi2 = chi2(features, labels == category_id)\n",
        "  indices = np.argsort(features_chi2[0])\n",
        "  feature_names = np.array(tfidf.get_feature_names())[indices]\n",
        "  unigrams = [v for v in feature_names if len(v.split(' ')) == 1]\n",
        "  bigrams = [v for v in feature_names if len(v.split(' ')) == 2]\n",
        "  print(\"# '{}':\".format(Product))\n",
        "  print(\"  . Most correlated unigrams:\\n. {}\".format('\\n. '.join(unigrams[-N:])))\n",
        "  print(\"  . Most correlated bigrams:\\n. {}\".format('\\n. '.join(bigrams[-N:])))"
      ],
      "execution_count": null,
      "outputs": [
        {
          "output_type": "stream",
          "name": "stderr",
          "text": [
            "/usr/local/lib/python3.7/dist-packages/sklearn/utils/deprecation.py:87: FutureWarning: Function get_feature_names is deprecated; get_feature_names is deprecated in 1.0 and will be removed in 1.2. Please use get_feature_names_out instead.\n",
            "  warnings.warn(msg, category=FutureWarning)\n"
          ]
        },
        {
          "output_type": "stream",
          "name": "stdout",
          "text": [
            "# 'Bank account or service':\n",
            "  . Most correlated unigrams:\n",
            ". stranger\n",
            ". netspend\n",
            "  . Most correlated bigrams:\n",
            ". ask look\n",
            ". husband account\n"
          ]
        },
        {
          "output_type": "stream",
          "name": "stderr",
          "text": [
            "/usr/local/lib/python3.7/dist-packages/sklearn/utils/deprecation.py:87: FutureWarning: Function get_feature_names is deprecated; get_feature_names is deprecated in 1.0 and will be removed in 1.2. Please use get_feature_names_out instead.\n",
            "  warnings.warn(msg, category=FutureWarning)\n"
          ]
        },
        {
          "output_type": "stream",
          "name": "stdout",
          "text": [
            "# 'Checking or savings account':\n",
            "  . Most correlated unigrams:\n",
            ". deposit\n",
            ". branch\n",
            "  . Most correlated bigrams:\n",
            ". savings account\n",
            ". checking account\n"
          ]
        },
        {
          "output_type": "stream",
          "name": "stderr",
          "text": [
            "/usr/local/lib/python3.7/dist-packages/sklearn/utils/deprecation.py:87: FutureWarning: Function get_feature_names is deprecated; get_feature_names is deprecated in 1.0 and will be removed in 1.2. Please use get_feature_names_out instead.\n",
            "  warnings.warn(msg, category=FutureWarning)\n"
          ]
        },
        {
          "output_type": "stream",
          "name": "stdout",
          "text": [
            "# 'Consumer Loan':\n",
            "  . Most correlated unigrams:\n",
            ". conveniently\n",
            ". prestige\n",
            "  . Most correlated bigrams:\n",
            ". companies using\n",
            ". prestige financial\n"
          ]
        },
        {
          "output_type": "stream",
          "name": "stderr",
          "text": [
            "/usr/local/lib/python3.7/dist-packages/sklearn/utils/deprecation.py:87: FutureWarning: Function get_feature_names is deprecated; get_feature_names is deprecated in 1.0 and will be removed in 1.2. Please use get_feature_names_out instead.\n",
            "  warnings.warn(msg, category=FutureWarning)\n"
          ]
        },
        {
          "output_type": "stream",
          "name": "stdout",
          "text": [
            "# 'Credit card':\n",
            "  . Most correlated unigrams:\n",
            ". 67\n",
            ". republic\n",
            "  . Most correlated bigrams:\n",
            ". called did\n",
            ". 67 00\n"
          ]
        },
        {
          "output_type": "stream",
          "name": "stderr",
          "text": [
            "/usr/local/lib/python3.7/dist-packages/sklearn/utils/deprecation.py:87: FutureWarning: Function get_feature_names is deprecated; get_feature_names is deprecated in 1.0 and will be removed in 1.2. Please use get_feature_names_out instead.\n",
            "  warnings.warn(msg, category=FutureWarning)\n"
          ]
        },
        {
          "output_type": "stream",
          "name": "stdout",
          "text": [
            "# 'Credit card or prepaid card':\n",
            "  . Most correlated unigrams:\n",
            ". citi\n",
            ". card\n",
            "  . Most correlated bigrams:\n",
            ". american express\n",
            ". credit card\n"
          ]
        },
        {
          "output_type": "stream",
          "name": "stderr",
          "text": [
            "/usr/local/lib/python3.7/dist-packages/sklearn/utils/deprecation.py:87: FutureWarning: Function get_feature_names is deprecated; get_feature_names is deprecated in 1.0 and will be removed in 1.2. Please use get_feature_names_out instead.\n",
            "  warnings.warn(msg, category=FutureWarning)\n"
          ]
        },
        {
          "output_type": "stream",
          "name": "stdout",
          "text": [
            "# 'Credit reporting':\n",
            "  . Most correlated unigrams:\n",
            ". occassions\n",
            ". judgements\n",
            "  . Most correlated bigrams:\n",
            ". following account\n",
            ". getting job\n"
          ]
        },
        {
          "output_type": "stream",
          "name": "stderr",
          "text": [
            "/usr/local/lib/python3.7/dist-packages/sklearn/utils/deprecation.py:87: FutureWarning: Function get_feature_names is deprecated; get_feature_names is deprecated in 1.0 and will be removed in 1.2. Please use get_feature_names_out instead.\n",
            "  warnings.warn(msg, category=FutureWarning)\n"
          ]
        },
        {
          "output_type": "stream",
          "name": "stdout",
          "text": [
            "# 'Credit reporting, credit repair services, or other personal consumer reports':\n",
            "  . Most correlated unigrams:\n",
            ". equifax\n",
            ". report\n",
            "  . Most correlated bigrams:\n",
            ". identity theft\n",
            ". credit report\n"
          ]
        },
        {
          "output_type": "stream",
          "name": "stderr",
          "text": [
            "/usr/local/lib/python3.7/dist-packages/sklearn/utils/deprecation.py:87: FutureWarning: Function get_feature_names is deprecated; get_feature_names is deprecated in 1.0 and will be removed in 1.2. Please use get_feature_names_out instead.\n",
            "  warnings.warn(msg, category=FutureWarning)\n"
          ]
        },
        {
          "output_type": "stream",
          "name": "stdout",
          "text": [
            "# 'Debt collection':\n",
            "  . Most correlated unigrams:\n",
            ". collection\n",
            ". debt\n",
            "  . Most correlated bigrams:\n",
            ". collect debt\n",
            ". debt collector\n"
          ]
        },
        {
          "output_type": "stream",
          "name": "stderr",
          "text": [
            "/usr/local/lib/python3.7/dist-packages/sklearn/utils/deprecation.py:87: FutureWarning: Function get_feature_names is deprecated; get_feature_names is deprecated in 1.0 and will be removed in 1.2. Please use get_feature_names_out instead.\n",
            "  warnings.warn(msg, category=FutureWarning)\n"
          ]
        },
        {
          "output_type": "stream",
          "name": "stdout",
          "text": [
            "# 'Money transfer, virtual currency, or money service':\n",
            "  . Most correlated unigrams:\n",
            ". coinbase\n",
            ". paypal\n",
            "  . Most correlated bigrams:\n",
            ". coinbase account\n",
            ". cash app\n"
          ]
        },
        {
          "output_type": "stream",
          "name": "stderr",
          "text": [
            "/usr/local/lib/python3.7/dist-packages/sklearn/utils/deprecation.py:87: FutureWarning: Function get_feature_names is deprecated; get_feature_names is deprecated in 1.0 and will be removed in 1.2. Please use get_feature_names_out instead.\n",
            "  warnings.warn(msg, category=FutureWarning)\n"
          ]
        },
        {
          "output_type": "stream",
          "name": "stdout",
          "text": [
            "# 'Money transfers':\n",
            "  . Most correlated unigrams:\n",
            ". elevated\n",
            ". beneficiary\n",
            "  . Most correlated bigrams:\n",
            ". situation just\n",
            ". money day\n"
          ]
        },
        {
          "output_type": "stream",
          "name": "stderr",
          "text": [
            "/usr/local/lib/python3.7/dist-packages/sklearn/utils/deprecation.py:87: FutureWarning: Function get_feature_names is deprecated; get_feature_names is deprecated in 1.0 and will be removed in 1.2. Please use get_feature_names_out instead.\n",
            "  warnings.warn(msg, category=FutureWarning)\n"
          ]
        },
        {
          "output_type": "stream",
          "name": "stdout",
          "text": [
            "# 'Mortgage':\n",
            "  . Most correlated unigrams:\n",
            ". escrow\n",
            ". mortgage\n",
            "  . Most correlated bigrams:\n",
            ". loan modification\n",
            ". mortgage company\n"
          ]
        },
        {
          "output_type": "stream",
          "name": "stderr",
          "text": [
            "/usr/local/lib/python3.7/dist-packages/sklearn/utils/deprecation.py:87: FutureWarning: Function get_feature_names is deprecated; get_feature_names is deprecated in 1.0 and will be removed in 1.2. Please use get_feature_names_out instead.\n",
            "  warnings.warn(msg, category=FutureWarning)\n"
          ]
        },
        {
          "output_type": "stream",
          "name": "stdout",
          "text": [
            "# 'Payday loan':\n",
            "  . Most correlated unigrams:\n",
            ". customary\n",
            ". prohibited\n",
            "  . Most correlated bigrams:\n",
            ". longer pay\n",
            ". pay day\n"
          ]
        },
        {
          "output_type": "stream",
          "name": "stderr",
          "text": [
            "/usr/local/lib/python3.7/dist-packages/sklearn/utils/deprecation.py:87: FutureWarning: Function get_feature_names is deprecated; get_feature_names is deprecated in 1.0 and will be removed in 1.2. Please use get_feature_names_out instead.\n",
            "  warnings.warn(msg, category=FutureWarning)\n"
          ]
        },
        {
          "output_type": "stream",
          "name": "stdout",
          "text": [
            "# 'Payday loan, title loan, or personal loan':\n",
            "  . Most correlated unigrams:\n",
            ". loan\n",
            ". payday\n",
            "  . Most correlated bigrams:\n",
            ". 00 loan\n",
            ". payday loan\n"
          ]
        },
        {
          "output_type": "stream",
          "name": "stderr",
          "text": [
            "/usr/local/lib/python3.7/dist-packages/sklearn/utils/deprecation.py:87: FutureWarning: Function get_feature_names is deprecated; get_feature_names is deprecated in 1.0 and will be removed in 1.2. Please use get_feature_names_out instead.\n",
            "  warnings.warn(msg, category=FutureWarning)\n"
          ]
        },
        {
          "output_type": "stream",
          "name": "stdout",
          "text": [
            "# 'Prepaid card':\n",
            "  . Most correlated unigrams:\n",
            ". replacement\n",
            ". abrupt\n",
            "  . Most correlated bigrams:\n",
            ". called money\n",
            ". card access\n"
          ]
        },
        {
          "output_type": "stream",
          "name": "stderr",
          "text": [
            "/usr/local/lib/python3.7/dist-packages/sklearn/utils/deprecation.py:87: FutureWarning: Function get_feature_names is deprecated; get_feature_names is deprecated in 1.0 and will be removed in 1.2. Please use get_feature_names_out instead.\n",
            "  warnings.warn(msg, category=FutureWarning)\n"
          ]
        },
        {
          "output_type": "stream",
          "name": "stdout",
          "text": [
            "# 'Student loan':\n",
            "  . Most correlated unigrams:\n",
            ". loans\n",
            ". navient\n",
            "  . Most correlated bigrams:\n",
            ". student loan\n",
            ". loan forgiveness\n",
            "# 'Vehicle loan or lease':\n",
            "  . Most correlated unigrams:\n",
            ". car\n",
            ". vehicle\n",
            "  . Most correlated bigrams:\n",
            ". chase auto\n",
            ". gm financial\n"
          ]
        },
        {
          "output_type": "stream",
          "name": "stderr",
          "text": [
            "/usr/local/lib/python3.7/dist-packages/sklearn/utils/deprecation.py:87: FutureWarning: Function get_feature_names is deprecated; get_feature_names is deprecated in 1.0 and will be removed in 1.2. Please use get_feature_names_out instead.\n",
            "  warnings.warn(msg, category=FutureWarning)\n"
          ]
        }
      ]
    },
    {
      "cell_type": "code",
      "metadata": {
        "id": "fANYWA3Qbpnl"
      },
      "source": [
        "from sklearn.model_selection import train_test_split\n",
        "from sklearn.feature_extraction.text import CountVectorizer\n",
        "from sklearn.feature_extraction.text import TfidfTransformer\n",
        "from sklearn.naive_bayes import MultinomialNB\n",
        "X_train, X_test, y_train, y_test = train_test_split(df['Consumer_complaint_narrative'], df['Product'], random_state = 0)\n",
        "count_vect = CountVectorizer()\n",
        "X_train_counts = count_vect.fit_transform(X_train)\n",
        "tfidf_transformer = TfidfTransformer()\n",
        "X_train_tfidf = tfidf_transformer.fit_transform(X_train_counts)\n",
        "clf = MultinomialNB().fit(X_train_tfidf, y_train)"
      ],
      "execution_count": null,
      "outputs": []
    },
    {
      "cell_type": "code",
      "metadata": {
        "colab": {
          "base_uri": "https://localhost:8080/"
        },
        "id": "HQw-PQhffIvl",
        "outputId": "18efcbda-e060-4d22-cb17-be58bbef9224"
      },
      "source": [
        "print(clf.predict(count_vect.transform([\"This company refuses to provide me verification and validation of debt per my right under the FDCPA. I do not believe this debt is mine.\"])))"
      ],
      "execution_count": null,
      "outputs": [
        {
          "output_type": "stream",
          "name": "stdout",
          "text": [
            "['Credit reporting, credit repair services, or other personal consumer reports']\n"
          ]
        }
      ]
    },
    {
      "cell_type": "code",
      "metadata": {
        "colab": {
          "base_uri": "https://localhost:8080/",
          "height": 50
        },
        "id": "qR5jhszof1Vw",
        "outputId": "0a18e4b5-535f-4938-bed9-0cd68a3b6bfc"
      },
      "source": [
        "df[df['Consumer_complaint_narrative'] == \"last year shortly opening line credit made payment hounded several times day company another payment due told violation never call payment issues today called  times already sent statement showing bill due verify  pieces information discussing personal information zero regard federal regulations\"]"
      ],
      "execution_count": null,
      "outputs": [
        {
          "output_type": "execute_result",
          "data": {
            "text/html": [
              "<div>\n",
              "<style scoped>\n",
              "    .dataframe tbody tr th:only-of-type {\n",
              "        vertical-align: middle;\n",
              "    }\n",
              "\n",
              "    .dataframe tbody tr th {\n",
              "        vertical-align: top;\n",
              "    }\n",
              "\n",
              "    .dataframe thead th {\n",
              "        text-align: right;\n",
              "    }\n",
              "</style>\n",
              "<table border=\"1\" class=\"dataframe\">\n",
              "  <thead>\n",
              "    <tr style=\"text-align: right;\">\n",
              "      <th></th>\n",
              "      <th>Product</th>\n",
              "      <th>Consumer_complaint_narrative</th>\n",
              "      <th>category_id</th>\n",
              "    </tr>\n",
              "  </thead>\n",
              "  <tbody>\n",
              "  </tbody>\n",
              "</table>\n",
              "</div>"
            ],
            "text/plain": [
              "Empty DataFrame\n",
              "Columns: [Product, Consumer_complaint_narrative, category_id]\n",
              "Index: []"
            ]
          },
          "metadata": {},
          "execution_count": 15
        }
      ]
    },
    {
      "cell_type": "code",
      "metadata": {
        "colab": {
          "base_uri": "https://localhost:8080/",
          "height": 1000
        },
        "id": "6UWRqtvgf7CC",
        "outputId": "a3850545-a6f8-41b4-cdd1-1e710c102276"
      },
      "source": [
        "from sklearn.linear_model import LogisticRegression\n",
        "from sklearn.ensemble import RandomForestClassifier\n",
        "from sklearn.svm import LinearSVC\n",
        "from sklearn.svm import SVC\n",
        "from sklearn.tree import DecisionTreeClassifier\n",
        "\n",
        "from sklearn.model_selection import cross_val_score\n",
        "models = [\n",
        "    RandomForestClassifier(n_estimators=200, max_depth=3, random_state=0),\n",
        "    LinearSVC(),\n",
        "    MultinomialNB(),\n",
        "    LogisticRegression(random_state=0),\n",
        "\n",
        "]\n",
        "CV = 5\n",
        "cv_df = pd.DataFrame(index=range(CV * len(models)))\n",
        "entries = []\n",
        "for model in models:\n",
        "  model_name = model.__class__.__name__\n",
        "  accuracies = cross_val_score(model, features, labels, scoring='accuracy', cv=CV)\n",
        "  for fold_idx, accuracy in enumerate(accuracies):\n",
        "    entries.append((model_name, fold_idx, accuracy))\n",
        "cv_df = pd.DataFrame(entries, columns=['model_name', 'fold_idx', 'accuracy'])\n",
        "import seaborn as sns\n",
        "sns.boxplot(x='model_name', y='accuracy', data=cv_df)\n",
        "sns.stripplot(x='model_name', y='accuracy', data=cv_df, \n",
        "              size=8, jitter=True, edgecolor=\"gray\", linewidth=2)\n",
        "plt.show()"
      ],
      "execution_count": null,
      "outputs": [
        {
          "output_type": "stream",
          "name": "stderr",
          "text": [
            "/usr/local/lib/python3.7/dist-packages/sklearn/model_selection/_split.py:680: UserWarning: The least populated class in y has only 1 members, which is less than n_splits=5.\n",
            "  UserWarning,\n",
            "/usr/local/lib/python3.7/dist-packages/sklearn/model_selection/_split.py:680: UserWarning: The least populated class in y has only 1 members, which is less than n_splits=5.\n",
            "  UserWarning,\n",
            "/usr/local/lib/python3.7/dist-packages/sklearn/model_selection/_split.py:680: UserWarning: The least populated class in y has only 1 members, which is less than n_splits=5.\n",
            "  UserWarning,\n",
            "/usr/local/lib/python3.7/dist-packages/sklearn/model_selection/_split.py:680: UserWarning: The least populated class in y has only 1 members, which is less than n_splits=5.\n",
            "  UserWarning,\n",
            "/usr/local/lib/python3.7/dist-packages/sklearn/linear_model/_logistic.py:818: ConvergenceWarning: lbfgs failed to converge (status=1):\n",
            "STOP: TOTAL NO. of ITERATIONS REACHED LIMIT.\n",
            "\n",
            "Increase the number of iterations (max_iter) or scale the data as shown in:\n",
            "    https://scikit-learn.org/stable/modules/preprocessing.html\n",
            "Please also refer to the documentation for alternative solver options:\n",
            "    https://scikit-learn.org/stable/modules/linear_model.html#logistic-regression\n",
            "  extra_warning_msg=_LOGISTIC_SOLVER_CONVERGENCE_MSG,\n",
            "/usr/local/lib/python3.7/dist-packages/sklearn/linear_model/_logistic.py:818: ConvergenceWarning: lbfgs failed to converge (status=1):\n",
            "STOP: TOTAL NO. of ITERATIONS REACHED LIMIT.\n",
            "\n",
            "Increase the number of iterations (max_iter) or scale the data as shown in:\n",
            "    https://scikit-learn.org/stable/modules/preprocessing.html\n",
            "Please also refer to the documentation for alternative solver options:\n",
            "    https://scikit-learn.org/stable/modules/linear_model.html#logistic-regression\n",
            "  extra_warning_msg=_LOGISTIC_SOLVER_CONVERGENCE_MSG,\n",
            "/usr/local/lib/python3.7/dist-packages/sklearn/linear_model/_logistic.py:818: ConvergenceWarning: lbfgs failed to converge (status=1):\n",
            "STOP: TOTAL NO. of ITERATIONS REACHED LIMIT.\n",
            "\n",
            "Increase the number of iterations (max_iter) or scale the data as shown in:\n",
            "    https://scikit-learn.org/stable/modules/preprocessing.html\n",
            "Please also refer to the documentation for alternative solver options:\n",
            "    https://scikit-learn.org/stable/modules/linear_model.html#logistic-regression\n",
            "  extra_warning_msg=_LOGISTIC_SOLVER_CONVERGENCE_MSG,\n",
            "/usr/local/lib/python3.7/dist-packages/sklearn/linear_model/_logistic.py:818: ConvergenceWarning: lbfgs failed to converge (status=1):\n",
            "STOP: TOTAL NO. of ITERATIONS REACHED LIMIT.\n",
            "\n",
            "Increase the number of iterations (max_iter) or scale the data as shown in:\n",
            "    https://scikit-learn.org/stable/modules/preprocessing.html\n",
            "Please also refer to the documentation for alternative solver options:\n",
            "    https://scikit-learn.org/stable/modules/linear_model.html#logistic-regression\n",
            "  extra_warning_msg=_LOGISTIC_SOLVER_CONVERGENCE_MSG,\n",
            "/usr/local/lib/python3.7/dist-packages/sklearn/linear_model/_logistic.py:818: ConvergenceWarning: lbfgs failed to converge (status=1):\n",
            "STOP: TOTAL NO. of ITERATIONS REACHED LIMIT.\n",
            "\n",
            "Increase the number of iterations (max_iter) or scale the data as shown in:\n",
            "    https://scikit-learn.org/stable/modules/preprocessing.html\n",
            "Please also refer to the documentation for alternative solver options:\n",
            "    https://scikit-learn.org/stable/modules/linear_model.html#logistic-regression\n",
            "  extra_warning_msg=_LOGISTIC_SOLVER_CONVERGENCE_MSG,\n"
          ]
        },
        {
          "output_type": "display_data",
          "data": {
            "image/png": "[encoded data removed]",
            "text/plain": [
              "<Figure size 432x288 with 1 Axes>"
            ]
          },
          "metadata": {
            "needs_background": "light"
          }
        }
      ]
    },
    {
      "cell_type": "code",
      "metadata": {
        "id": "1U2lKMU0f-2h",
        "colab": {
          "base_uri": "https://localhost:8080/"
        },
        "outputId": "2cacc74d-e424-4287-97b3-5b81158fffd8"
      },
      "source": [
        "cv_df.groupby('model_name').accuracy.mean()\n",
        "\n"
      ],
      "execution_count": null,
      "outputs": [
        {
          "output_type": "execute_result",
          "data": {
            "text/plain": [
              "model_name\n",
              "LinearSVC                 0.8288\n",
              "LogisticRegression        0.8050\n",
              "MultinomialNB             0.6113\n",
              "RandomForestClassifier    0.4583\n",
              "Name: accuracy, dtype: float64"
            ]
          },
          "metadata": {},
          "execution_count": 17
        }
      ]
    },
    {
      "cell_type": "code",
      "metadata": {
        "colab": {
          "base_uri": "https://localhost:8080/",
          "height": 970
        },
        "id": "ETyWU9kjjIok",
        "outputId": "d049ef1b-30db-4e67-a325-4aea856919af"
      },
      "source": [
        "model = LinearSVC()\n",
        "X_train, X_test, y_train, y_test, indices_train, indices_test = train_test_split(features, labels, df.index, test_size=0.33, random_state=0)\n",
        "model.fit(X_train, y_train)\n",
        "y_pred = model.predict(X_test)\n",
        "from sklearn.metrics import confusion_matrix\n",
        "conf_mat = confusion_matrix(y_test, y_pred)\n",
        "fig, ax = plt.subplots(figsize=(10,10))\n",
        "sns.heatmap(conf_mat, annot=True, fmt='d',\n",
        "            xticklabels=category_id_df.Product.values, yticklabels=category_id_df.Product.values)\n",
        "plt.ylabel('Actual')\n",
        "plt.xlabel('Predicted')\n",
        "plt.show()"
      ],
      "execution_count": null,
      "outputs": [
        {
          "output_type": "display_data",
          "data": {
            "image/png": "[encoded data removed]",
            "text/plain": [
              "<Figure size 720x720 with 2 Axes>"
            ]
          },
          "metadata": {
            "needs_background": "light"
          }
        }
      ]
    },
    {
      "cell_type": "code",
      "metadata": {
        "colab": {
          "base_uri": "https://localhost:8080/"
        },
        "id": "MB-n6nBQjNm6",
        "outputId": "19502258-54b9-4e19-86af-a88eae7772d8"
      },
      "source": [
        "from sklearn import metrics\n",
        "print(metrics.classification_report(y_test, y_pred))"
      ],
      "execution_count": null,
      "outputs": [
        {
          "output_type": "stream",
          "name": "stdout",
          "text": [
            "              precision    recall  f1-score   support\n",
            "\n",
            "           0       0.84      0.51      0.64        72\n",
            "           1       0.86      0.92      0.89      1502\n",
            "           2       0.80      0.74      0.77       339\n",
            "           3       0.83      0.59      0.69        81\n",
            "           4       0.83      0.90      0.86       284\n",
            "           5       0.93      0.21      0.34        63\n",
            "           6       0.78      0.77      0.78       620\n",
            "           7       0.77      0.85      0.81       217\n",
            "           8       0.87      0.79      0.83       115\n",
            "           9       0.00      0.00      0.00         1\n",
            "          10       0.00      0.00      0.00         1\n",
            "          11       0.00      0.00      0.00         2\n",
            "          13       0.00      0.00      0.00         2\n",
            "          14       0.00      0.00      0.00         1\n",
            "\n",
            "    accuracy                           0.83      3300\n",
            "   macro avg       0.54      0.45      0.47      3300\n",
            "weighted avg       0.83      0.83      0.82      3300\n",
            "\n"
          ]
        },
        {
          "output_type": "stream",
          "name": "stderr",
          "text": [
            "/usr/local/lib/python3.7/dist-packages/sklearn/metrics/_classification.py:1308: UndefinedMetricWarning: Precision and F-score are ill-defined and being set to 0.0 in labels with no predicted samples. Use `zero_division` parameter to control this behavior.\n",
            "  _warn_prf(average, modifier, msg_start, len(result))\n",
            "/usr/local/lib/python3.7/dist-packages/sklearn/metrics/_classification.py:1308: UndefinedMetricWarning: Precision and F-score are ill-defined and being set to 0.0 in labels with no predicted samples. Use `zero_division` parameter to control this behavior.\n",
            "  _warn_prf(average, modifier, msg_start, len(result))\n",
            "/usr/local/lib/python3.7/dist-packages/sklearn/metrics/_classification.py:1308: UndefinedMetricWarning: Precision and F-score are ill-defined and being set to 0.0 in labels with no predicted samples. Use `zero_division` parameter to control this behavior.\n",
            "  _warn_prf(average, modifier, msg_start, len(result))\n"
          ]
        }
      ]
    },
    {
      "cell_type": "code",
      "metadata": {
        "id": "CVepNG3KjNfz",
        "colab": {
          "base_uri": "https://localhost:8080/",
          "height": 286
        },
        "outputId": "e545c882-f4a2-42d7-b775-47e658d2f785"
      },
      "source": [
        "new_complaint = ['I am a victim of identity theft and someone stole my identity and personal information to open up a Visa credit card account with Bank of America. The following Bank of America Visa credit card account do not belong to me : XXXX.']\n",
        "seq = tokenizer.texts_to_sequences(new_complaint)\n",
        "padded = pad_sequences(seq, maxlen=MAX_SEQUENCE_LENGTH)\n",
        "pred = model.predict(padded)\n",
        "labels = ['Credit reporting, credit repair services, or other personal consumer reports', 'Debt collection', 'Mortgage', 'Credit card or prepaid card', 'Student loan', 'Bank account or service', 'Checking or savings account', 'Consumer Loan', 'Payday loan, title loan, or personal loan', 'Vehicle loan or lease', 'Money transfer, virtual currency, or money service', 'Money transfers', 'Prepaid card']\n",
        "print(pred, labels[np.argmax(pred)])"
      ],
      "execution_count": null,
      "outputs": [
        {
          "output_type": "error",
          "ename": "NameError",
          "evalue": "ignored",
          "traceback": [
            "\u001b[0;31m---------------------------------------------------------------------------\u001b[0m",
            "\u001b[0;31mNameError\u001b[0m                                 Traceback (most recent call last)",
            "\u001b[0;32m<ipython-input-20-a79a9091ef04>\u001b[0m in \u001b[0;36m<module>\u001b[0;34m()\u001b[0m\n\u001b[1;32m      1\u001b[0m \u001b[0mnew_complaint\u001b[0m \u001b[0;34m=\u001b[0m \u001b[0;34m[\u001b[0m\u001b[0;34m'I am a victim of identity theft and someone stole my identity and personal information to open up a Visa credit card account with Bank of America. The following Bank of America Visa credit card account do not belong to me : XXXX.'\u001b[0m\u001b[0;34m]\u001b[0m\u001b[0;34m\u001b[0m\u001b[0;34m\u001b[0m\u001b[0m\n\u001b[0;32m----> 2\u001b[0;31m \u001b[0mseq\u001b[0m \u001b[0;34m=\u001b[0m \u001b[0mtokenizer\u001b[0m\u001b[0;34m.\u001b[0m\u001b[0mtexts_to_sequences\u001b[0m\u001b[0;34m(\u001b[0m\u001b[0mnew_complaint\u001b[0m\u001b[0;34m)\u001b[0m\u001b[0;34m\u001b[0m\u001b[0;34m\u001b[0m\u001b[0m\n\u001b[0m\u001b[1;32m      3\u001b[0m \u001b[0mpadded\u001b[0m \u001b[0;34m=\u001b[0m \u001b[0mpad_sequences\u001b[0m\u001b[0;34m(\u001b[0m\u001b[0mseq\u001b[0m\u001b[0;34m,\u001b[0m \u001b[0mmaxlen\u001b[0m\u001b[0;34m=\u001b[0m\u001b[0mMAX_SEQUENCE_LENGTH\u001b[0m\u001b[0;34m)\u001b[0m\u001b[0;34m\u001b[0m\u001b[0;34m\u001b[0m\u001b[0m\n\u001b[1;32m      4\u001b[0m \u001b[0mpred\u001b[0m \u001b[0;34m=\u001b[0m \u001b[0mmodel\u001b[0m\u001b[0;34m.\u001b[0m\u001b[0mpredict\u001b[0m\u001b[0;34m(\u001b[0m\u001b[0mpadded\u001b[0m\u001b[0;34m)\u001b[0m\u001b[0;34m\u001b[0m\u001b[0;34m\u001b[0m\u001b[0m\n\u001b[1;32m      5\u001b[0m \u001b[0mlabels\u001b[0m \u001b[0;34m=\u001b[0m \u001b[0;34m[\u001b[0m\u001b[0;34m'Credit reporting, credit repair services, or other personal consumer reports'\u001b[0m\u001b[0;34m,\u001b[0m \u001b[0;34m'Debt collection'\u001b[0m\u001b[0;34m,\u001b[0m \u001b[0;34m'Mortgage'\u001b[0m\u001b[0;34m,\u001b[0m \u001b[0;34m'Credit card or prepaid card'\u001b[0m\u001b[0;34m,\u001b[0m \u001b[0;34m'Student loan'\u001b[0m\u001b[0;34m,\u001b[0m \u001b[0;34m'Bank account or service'\u001b[0m\u001b[0;34m,\u001b[0m \u001b[0;34m'Checking or savings account'\u001b[0m\u001b[0;34m,\u001b[0m \u001b[0;34m'Consumer Loan'\u001b[0m\u001b[0;34m,\u001b[0m \u001b[0;34m'Payday loan, title loan, or personal loan'\u001b[0m\u001b[0;34m,\u001b[0m \u001b[0;34m'Vehicle loan or lease'\u001b[0m\u001b[0;34m,\u001b[0m \u001b[0;34m'Money transfer, virtual currency, or money service'\u001b[0m\u001b[0;34m,\u001b[0m \u001b[0;34m'Money transfers'\u001b[0m\u001b[0;34m,\u001b[0m \u001b[0;34m'Prepaid card'\u001b[0m\u001b[0;34m]\u001b[0m\u001b[0;34m\u001b[0m\u001b[0;34m\u001b[0m\u001b[0m\n",
            "\u001b[0;31mNameError\u001b[0m: name 'tokenizer' is not defined"
          ]
        }
      ]
    }
  ]
}